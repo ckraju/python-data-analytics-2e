{
  "nbformat": 4,
  "nbformat_minor": 0,
  "metadata": {
    "kernelspec": {
      "display_name": "Python 3",
      "language": "python",
      "name": "python3"
    },
    "language_info": {
      "codemirror_mode": {
        "name": "ipython",
        "version": 3
      },
      "file_extension": ".py",
      "mimetype": "text/x-python",
      "name": "python",
      "nbconvert_exporter": "python",
      "pygments_lexer": "ipython3",
      "version": "3.6.3"
    },
    "colab": {
      "name": "Chapter 3 - The Numpy Library.ipynb",
      "provenance": [],
      "include_colab_link": true
    }
  },
  "cells": [
    {
      "cell_type": "markdown",
      "metadata": {
        "id": "view-in-github",
        "colab_type": "text"
      },
      "source": [
        "<a href=\"https://colab.research.google.com/github/ckraju/python-data-analytics-2e/blob/master/Chapter_3_The_Numpy_Library.ipynb\" target=\"_parent\"><img src=\"https://colab.research.google.com/assets/colab-badge.svg\" alt=\"Open In Colab\"/></a>"
      ]
    },
    {
      "cell_type": "markdown",
      "metadata": {
        "id": "ZgWvlce92-dy"
      },
      "source": [
        "# CHAPTER 3 - THE NUMPY LIBRARY"
      ]
    },
    {
      "cell_type": "markdown",
      "metadata": {
        "id": "G5aHKkCx2-d2"
      },
      "source": [
        "## The NumPy Installation"
      ]
    },
    {
      "cell_type": "code",
      "metadata": {
        "collapsed": true,
        "id": "rr1cwZwz2-d4"
      },
      "source": [
        "import numpy as np"
      ],
      "execution_count": 133,
      "outputs": []
    },
    {
      "cell_type": "markdown",
      "metadata": {
        "id": "xR6JXtoq2-d5"
      },
      "source": [
        "## Ndarray: The Heart of the Library"
      ]
    },
    {
      "cell_type": "code",
      "metadata": {
        "colab": {
          "base_uri": "https://localhost:8080/"
        },
        "id": "znWcjJOb2-d6",
        "outputId": "227160d9-45bd-4438-d420-b1decdd62b55"
      },
      "source": [
        "a = np.array([1, 2, 3])\n",
        "a"
      ],
      "execution_count": 134,
      "outputs": [
        {
          "output_type": "execute_result",
          "data": {
            "text/plain": [
              "array([1, 2, 3])"
            ]
          },
          "metadata": {
            "tags": []
          },
          "execution_count": 134
        }
      ]
    },
    {
      "cell_type": "code",
      "metadata": {
        "colab": {
          "base_uri": "https://localhost:8080/"
        },
        "id": "VNyvH9sm2-d-",
        "outputId": "94ed283d-a8e6-418f-9f8b-188934cc7246"
      },
      "source": [
        "type(a)"
      ],
      "execution_count": 135,
      "outputs": [
        {
          "output_type": "execute_result",
          "data": {
            "text/plain": [
              "numpy.ndarray"
            ]
          },
          "metadata": {
            "tags": []
          },
          "execution_count": 135
        }
      ]
    },
    {
      "cell_type": "code",
      "metadata": {
        "colab": {
          "base_uri": "https://localhost:8080/"
        },
        "id": "rzWrUxKd2-d-",
        "outputId": "7c85a46b-9d70-4ad7-abb1-731487054721"
      },
      "source": [
        "a.dtype"
      ],
      "execution_count": 136,
      "outputs": [
        {
          "output_type": "execute_result",
          "data": {
            "text/plain": [
              "dtype('int64')"
            ]
          },
          "metadata": {
            "tags": []
          },
          "execution_count": 136
        }
      ]
    },
    {
      "cell_type": "code",
      "metadata": {
        "colab": {
          "base_uri": "https://localhost:8080/"
        },
        "id": "hrtVok1s2-d_",
        "outputId": "734f1272-5146-42c2-c287-194d6bfe0544"
      },
      "source": [
        "a.ndim"
      ],
      "execution_count": 137,
      "outputs": [
        {
          "output_type": "execute_result",
          "data": {
            "text/plain": [
              "1"
            ]
          },
          "metadata": {
            "tags": []
          },
          "execution_count": 137
        }
      ]
    },
    {
      "cell_type": "code",
      "metadata": {
        "colab": {
          "base_uri": "https://localhost:8080/"
        },
        "id": "D1BszuEg2-eB",
        "outputId": "46a45f41-59df-4ddb-95f4-2cf5e0f9f645"
      },
      "source": [
        "a.size"
      ],
      "execution_count": 138,
      "outputs": [
        {
          "output_type": "execute_result",
          "data": {
            "text/plain": [
              "3"
            ]
          },
          "metadata": {
            "tags": []
          },
          "execution_count": 138
        }
      ]
    },
    {
      "cell_type": "code",
      "metadata": {
        "colab": {
          "base_uri": "https://localhost:8080/"
        },
        "id": "FOfqiDeG2-eC",
        "outputId": "8e4499cd-8c7a-4ffc-c9a2-500d1afe5f49"
      },
      "source": [
        "a.shape"
      ],
      "execution_count": 139,
      "outputs": [
        {
          "output_type": "execute_result",
          "data": {
            "text/plain": [
              "(3,)"
            ]
          },
          "metadata": {
            "tags": []
          },
          "execution_count": 139
        }
      ]
    },
    {
      "cell_type": "code",
      "metadata": {
        "colab": {
          "base_uri": "https://localhost:8080/"
        },
        "id": "f_y9Qiu_2-eD",
        "outputId": "5fef9993-df52-406a-e761-13876dfa1ed1"
      },
      "source": [
        "b = np.array([[1.3, 2.4], [0.3, 4.1]])\n",
        "b.dtype"
      ],
      "execution_count": 140,
      "outputs": [
        {
          "output_type": "execute_result",
          "data": {
            "text/plain": [
              "dtype('float64')"
            ]
          },
          "metadata": {
            "tags": []
          },
          "execution_count": 140
        }
      ]
    },
    {
      "cell_type": "code",
      "metadata": {
        "colab": {
          "base_uri": "https://localhost:8080/"
        },
        "id": "irvn6rVv2-eE",
        "outputId": "964a33cd-0a59-4941-81a6-82d13396d0d4"
      },
      "source": [
        "b.ndim"
      ],
      "execution_count": 141,
      "outputs": [
        {
          "output_type": "execute_result",
          "data": {
            "text/plain": [
              "2"
            ]
          },
          "metadata": {
            "tags": []
          },
          "execution_count": 141
        }
      ]
    },
    {
      "cell_type": "code",
      "metadata": {
        "colab": {
          "base_uri": "https://localhost:8080/"
        },
        "id": "takTw8l82-eE",
        "outputId": "94ef78c9-0718-41d0-a5c2-eface551689b"
      },
      "source": [
        "b.size"
      ],
      "execution_count": 142,
      "outputs": [
        {
          "output_type": "execute_result",
          "data": {
            "text/plain": [
              "4"
            ]
          },
          "metadata": {
            "tags": []
          },
          "execution_count": 142
        }
      ]
    },
    {
      "cell_type": "code",
      "metadata": {
        "colab": {
          "base_uri": "https://localhost:8080/"
        },
        "id": "GzTYneUS2-eF",
        "outputId": "31ae17a8-c1b7-4a92-bb52-7e90e6f97128"
      },
      "source": [
        "b.shape"
      ],
      "execution_count": 143,
      "outputs": [
        {
          "output_type": "execute_result",
          "data": {
            "text/plain": [
              "(2, 2)"
            ]
          },
          "metadata": {
            "tags": []
          },
          "execution_count": 143
        }
      ]
    },
    {
      "cell_type": "code",
      "metadata": {
        "colab": {
          "base_uri": "https://localhost:8080/"
        },
        "id": "i9xCNih72-eG",
        "outputId": "cf17b070-036f-419e-c06d-5434f0109d6c"
      },
      "source": [
        "b.itemsize"
      ],
      "execution_count": 144,
      "outputs": [
        {
          "output_type": "execute_result",
          "data": {
            "text/plain": [
              "8"
            ]
          },
          "metadata": {
            "tags": []
          },
          "execution_count": 144
        }
      ]
    },
    {
      "cell_type": "code",
      "metadata": {
        "colab": {
          "base_uri": "https://localhost:8080/"
        },
        "id": "cphB9fZS2-eH",
        "outputId": "8a694587-80c9-4926-a45a-ba366401e8b4"
      },
      "source": [
        "b.data"
      ],
      "execution_count": 145,
      "outputs": [
        {
          "output_type": "execute_result",
          "data": {
            "text/plain": [
              "<memory at 0x7f5339dcf130>"
            ]
          },
          "metadata": {
            "tags": []
          },
          "execution_count": 145
        }
      ]
    },
    {
      "cell_type": "markdown",
      "metadata": {
        "id": "qOdY_B1N2-eH"
      },
      "source": [
        "### Create an Array"
      ]
    },
    {
      "cell_type": "code",
      "metadata": {
        "colab": {
          "base_uri": "https://localhost:8080/"
        },
        "id": "WBEMt8JL2-eI",
        "outputId": "38c60b34-6495-44f4-e9ff-eeb10d85696b"
      },
      "source": [
        "c = np.array([[1, 2, 3], [4, 5, 6]])\n",
        "c"
      ],
      "execution_count": 146,
      "outputs": [
        {
          "output_type": "execute_result",
          "data": {
            "text/plain": [
              "array([[1, 2, 3],\n",
              "       [4, 5, 6]])"
            ]
          },
          "metadata": {
            "tags": []
          },
          "execution_count": 146
        }
      ]
    },
    {
      "cell_type": "code",
      "metadata": {
        "colab": {
          "base_uri": "https://localhost:8080/"
        },
        "id": "CBcedPHI2-eI",
        "outputId": "2d12dddf-0e74-45ca-bdb9-898a6af97adf"
      },
      "source": [
        "d = np.array(((1, 2, 3), (4, 5, 6)))\n",
        "d"
      ],
      "execution_count": 147,
      "outputs": [
        {
          "output_type": "execute_result",
          "data": {
            "text/plain": [
              "array([[1, 2, 3],\n",
              "       [4, 5, 6]])"
            ]
          },
          "metadata": {
            "tags": []
          },
          "execution_count": 147
        }
      ]
    },
    {
      "cell_type": "code",
      "metadata": {
        "colab": {
          "base_uri": "https://localhost:8080/"
        },
        "id": "M1uM0Vcd2-eJ",
        "outputId": "b269557a-094f-40ec-945a-0cd20d7a9ed7"
      },
      "source": [
        "e = np.array([(1, 2, 3), [4, 5, 6], (7, 8, 9)])\n",
        "e"
      ],
      "execution_count": 148,
      "outputs": [
        {
          "output_type": "execute_result",
          "data": {
            "text/plain": [
              "array([[1, 2, 3],\n",
              "       [4, 5, 6],\n",
              "       [7, 8, 9]])"
            ]
          },
          "metadata": {
            "tags": []
          },
          "execution_count": 148
        }
      ]
    },
    {
      "cell_type": "markdown",
      "metadata": {
        "id": "Vpzu_pL42-eJ"
      },
      "source": [
        "### Types of data"
      ]
    },
    {
      "cell_type": "code",
      "metadata": {
        "colab": {
          "base_uri": "https://localhost:8080/"
        },
        "id": "cfoucubD2-eK",
        "outputId": "378fc261-16cd-4547-e670-6614f1837427"
      },
      "source": [
        "g = np.array([['a', 'b'], ['c', 'd']])\n",
        "g"
      ],
      "execution_count": 149,
      "outputs": [
        {
          "output_type": "execute_result",
          "data": {
            "text/plain": [
              "array([['a', 'b'],\n",
              "       ['c', 'd']], dtype='<U1')"
            ]
          },
          "metadata": {
            "tags": []
          },
          "execution_count": 149
        }
      ]
    },
    {
      "cell_type": "code",
      "metadata": {
        "colab": {
          "base_uri": "https://localhost:8080/"
        },
        "id": "x19QxyY_2-eK",
        "outputId": "47cc37a5-4c87-4a25-e3ff-d03cf63cb707"
      },
      "source": [
        "g.dtype"
      ],
      "execution_count": 150,
      "outputs": [
        {
          "output_type": "execute_result",
          "data": {
            "text/plain": [
              "dtype('<U1')"
            ]
          },
          "metadata": {
            "tags": []
          },
          "execution_count": 150
        }
      ]
    },
    {
      "cell_type": "code",
      "metadata": {
        "colab": {
          "base_uri": "https://localhost:8080/",
          "height": 36
        },
        "id": "33nI_C6S2-eL",
        "outputId": "0bd1605d-ebed-4dcf-f981-a5cc70410c38"
      },
      "source": [
        "g.dtype.name"
      ],
      "execution_count": 151,
      "outputs": [
        {
          "output_type": "execute_result",
          "data": {
            "application/vnd.google.colaboratory.intrinsic+json": {
              "type": "string"
            },
            "text/plain": [
              "'str32'"
            ]
          },
          "metadata": {
            "tags": []
          },
          "execution_count": 151
        }
      ]
    },
    {
      "cell_type": "markdown",
      "metadata": {
        "id": "CMTEmKZD2-eL"
      },
      "source": [
        "### The dtype Option"
      ]
    },
    {
      "cell_type": "code",
      "metadata": {
        "colab": {
          "base_uri": "https://localhost:8080/"
        },
        "id": "GlKH_2gg2-eM",
        "outputId": "63e6fcb4-d854-4aac-e554-ca701af9b9d0"
      },
      "source": [
        "f = np.array([[1, 2, 3], [4, 5, 6]], dtype=complex)\n",
        "f"
      ],
      "execution_count": 152,
      "outputs": [
        {
          "output_type": "execute_result",
          "data": {
            "text/plain": [
              "array([[1.+0.j, 2.+0.j, 3.+0.j],\n",
              "       [4.+0.j, 5.+0.j, 6.+0.j]])"
            ]
          },
          "metadata": {
            "tags": []
          },
          "execution_count": 152
        }
      ]
    },
    {
      "cell_type": "markdown",
      "metadata": {
        "id": "bngslCFi2-eM"
      },
      "source": [
        "### Intrinsic Creation of an Array "
      ]
    },
    {
      "cell_type": "code",
      "metadata": {
        "colab": {
          "base_uri": "https://localhost:8080/"
        },
        "id": "rwOm0XBl2-eU",
        "outputId": "a6fec195-8083-4306-a7d3-a7162d4a7642"
      },
      "source": [
        "np.zeros((3,3))"
      ],
      "execution_count": 153,
      "outputs": [
        {
          "output_type": "execute_result",
          "data": {
            "text/plain": [
              "array([[0., 0., 0.],\n",
              "       [0., 0., 0.],\n",
              "       [0., 0., 0.]])"
            ]
          },
          "metadata": {
            "tags": []
          },
          "execution_count": 153
        }
      ]
    },
    {
      "cell_type": "code",
      "metadata": {
        "colab": {
          "base_uri": "https://localhost:8080/"
        },
        "id": "vjXkJ6cA2-eV",
        "outputId": "1b9bcb90-a02f-4c98-af01-d11f9e1cd544"
      },
      "source": [
        "np.ones((3,3))"
      ],
      "execution_count": 154,
      "outputs": [
        {
          "output_type": "execute_result",
          "data": {
            "text/plain": [
              "array([[1., 1., 1.],\n",
              "       [1., 1., 1.],\n",
              "       [1., 1., 1.]])"
            ]
          },
          "metadata": {
            "tags": []
          },
          "execution_count": 154
        }
      ]
    },
    {
      "cell_type": "code",
      "metadata": {
        "colab": {
          "base_uri": "https://localhost:8080/"
        },
        "id": "Ds_wpq-B2-eW",
        "outputId": "55e9424f-e03a-43bc-ddb1-c351c5906759"
      },
      "source": [
        "np.arange(0, 10)"
      ],
      "execution_count": 155,
      "outputs": [
        {
          "output_type": "execute_result",
          "data": {
            "text/plain": [
              "array([0, 1, 2, 3, 4, 5, 6, 7, 8, 9])"
            ]
          },
          "metadata": {
            "tags": []
          },
          "execution_count": 155
        }
      ]
    },
    {
      "cell_type": "code",
      "metadata": {
        "colab": {
          "base_uri": "https://localhost:8080/"
        },
        "id": "01pEWWsg2-eW",
        "outputId": "e685fc83-09d3-4610-f5ca-d94dfd09d438"
      },
      "source": [
        "np.arange(4, 10)"
      ],
      "execution_count": 156,
      "outputs": [
        {
          "output_type": "execute_result",
          "data": {
            "text/plain": [
              "array([4, 5, 6, 7, 8, 9])"
            ]
          },
          "metadata": {
            "tags": []
          },
          "execution_count": 156
        }
      ]
    },
    {
      "cell_type": "code",
      "metadata": {
        "colab": {
          "base_uri": "https://localhost:8080/"
        },
        "id": "0biPJ1XM2-eW",
        "outputId": "17989b7d-5b97-4c77-aa8b-1936aaa818b7"
      },
      "source": [
        "np.arange(0, 12, 3)"
      ],
      "execution_count": 157,
      "outputs": [
        {
          "output_type": "execute_result",
          "data": {
            "text/plain": [
              "array([0, 3, 6, 9])"
            ]
          },
          "metadata": {
            "tags": []
          },
          "execution_count": 157
        }
      ]
    },
    {
      "cell_type": "code",
      "metadata": {
        "colab": {
          "base_uri": "https://localhost:8080/"
        },
        "id": "Uwk3aG-D2-eY",
        "outputId": "af37361e-6694-4ff3-fbab-bc20f761f846"
      },
      "source": [
        "np.arange(0, 6, 0.6)"
      ],
      "execution_count": 158,
      "outputs": [
        {
          "output_type": "execute_result",
          "data": {
            "text/plain": [
              "array([0. , 0.6, 1.2, 1.8, 2.4, 3. , 3.6, 4.2, 4.8, 5.4])"
            ]
          },
          "metadata": {
            "tags": []
          },
          "execution_count": 158
        }
      ]
    },
    {
      "cell_type": "code",
      "metadata": {
        "colab": {
          "base_uri": "https://localhost:8080/"
        },
        "id": "48R9b3H_2-eY",
        "outputId": "ee91f56d-732f-4c51-9caf-6b17f6c117a1"
      },
      "source": [
        "np.arange(0, 12).reshape(3, 4)"
      ],
      "execution_count": 159,
      "outputs": [
        {
          "output_type": "execute_result",
          "data": {
            "text/plain": [
              "array([[ 0,  1,  2,  3],\n",
              "       [ 4,  5,  6,  7],\n",
              "       [ 8,  9, 10, 11]])"
            ]
          },
          "metadata": {
            "tags": []
          },
          "execution_count": 159
        }
      ]
    },
    {
      "cell_type": "code",
      "metadata": {
        "colab": {
          "base_uri": "https://localhost:8080/"
        },
        "id": "NUqTh5CQ2-eY",
        "outputId": "ccf9004d-f0e8-45bc-8707-12f28e8cc0fc"
      },
      "source": [
        "np.linspace(0, 10, 5)"
      ],
      "execution_count": 160,
      "outputs": [
        {
          "output_type": "execute_result",
          "data": {
            "text/plain": [
              "array([ 0. ,  2.5,  5. ,  7.5, 10. ])"
            ]
          },
          "metadata": {
            "tags": []
          },
          "execution_count": 160
        }
      ]
    },
    {
      "cell_type": "code",
      "metadata": {
        "colab": {
          "base_uri": "https://localhost:8080/"
        },
        "id": "zHWsjDkg2-eY",
        "outputId": "bb716dcb-435e-4954-d510-b084ef90aeac"
      },
      "source": [
        "np.random.random(3)"
      ],
      "execution_count": 161,
      "outputs": [
        {
          "output_type": "execute_result",
          "data": {
            "text/plain": [
              "array([0.46692898, 0.17836095, 0.16816008])"
            ]
          },
          "metadata": {
            "tags": []
          },
          "execution_count": 161
        }
      ]
    },
    {
      "cell_type": "code",
      "metadata": {
        "colab": {
          "base_uri": "https://localhost:8080/"
        },
        "id": "d8LzIXI-2-eZ",
        "outputId": "1ec4b38d-5708-40e4-b231-a1cb07d97712"
      },
      "source": [
        "np.random.random((3, 3))"
      ],
      "execution_count": 162,
      "outputs": [
        {
          "output_type": "execute_result",
          "data": {
            "text/plain": [
              "array([[0.02886323, 0.99971132, 0.33562449],\n",
              "       [0.19887985, 0.21057916, 0.62227201],\n",
              "       [0.65786498, 0.98772454, 0.82384602]])"
            ]
          },
          "metadata": {
            "tags": []
          },
          "execution_count": 162
        }
      ]
    },
    {
      "cell_type": "markdown",
      "metadata": {
        "id": "Q8dgm_-Z2-eZ"
      },
      "source": [
        "## Basic Operations"
      ]
    },
    {
      "cell_type": "markdown",
      "metadata": {
        "id": "tpIO65wH2-ea"
      },
      "source": [
        "### Arithmetic Operators"
      ]
    },
    {
      "cell_type": "code",
      "metadata": {
        "colab": {
          "base_uri": "https://localhost:8080/"
        },
        "id": "gAZB4SP-2-ea",
        "outputId": "4e597ba5-2fe8-45b5-a1ad-ffb328f50f2c"
      },
      "source": [
        "a = np.arange(4)\n",
        "a"
      ],
      "execution_count": 163,
      "outputs": [
        {
          "output_type": "execute_result",
          "data": {
            "text/plain": [
              "array([0, 1, 2, 3])"
            ]
          },
          "metadata": {
            "tags": []
          },
          "execution_count": 163
        }
      ]
    },
    {
      "cell_type": "code",
      "metadata": {
        "colab": {
          "base_uri": "https://localhost:8080/"
        },
        "id": "kmRzu9552-ea",
        "outputId": "f237b0fe-bdfe-4b94-c1f6-899459b442de"
      },
      "source": [
        "a + 4"
      ],
      "execution_count": 164,
      "outputs": [
        {
          "output_type": "execute_result",
          "data": {
            "text/plain": [
              "array([4, 5, 6, 7])"
            ]
          },
          "metadata": {
            "tags": []
          },
          "execution_count": 164
        }
      ]
    },
    {
      "cell_type": "code",
      "metadata": {
        "colab": {
          "base_uri": "https://localhost:8080/"
        },
        "id": "WoTtuXat2-ec",
        "outputId": "93a819b9-a529-4992-89bb-5e98aa1cf53f"
      },
      "source": [
        "a * 2"
      ],
      "execution_count": 165,
      "outputs": [
        {
          "output_type": "execute_result",
          "data": {
            "text/plain": [
              "array([0, 2, 4, 6])"
            ]
          },
          "metadata": {
            "tags": []
          },
          "execution_count": 165
        }
      ]
    },
    {
      "cell_type": "code",
      "metadata": {
        "colab": {
          "base_uri": "https://localhost:8080/"
        },
        "id": "MDai2at12-ec",
        "outputId": "8669e7d5-c244-47d3-c1d6-6f79f7c39963"
      },
      "source": [
        "b = np.arange(4, 8)\n",
        "b"
      ],
      "execution_count": 166,
      "outputs": [
        {
          "output_type": "execute_result",
          "data": {
            "text/plain": [
              "array([4, 5, 6, 7])"
            ]
          },
          "metadata": {
            "tags": []
          },
          "execution_count": 166
        }
      ]
    },
    {
      "cell_type": "code",
      "metadata": {
        "colab": {
          "base_uri": "https://localhost:8080/"
        },
        "id": "KzPXLlJD2-ec",
        "outputId": "8c2058d6-949d-4c75-c198-642ee132bb9b"
      },
      "source": [
        "a + b"
      ],
      "execution_count": 167,
      "outputs": [
        {
          "output_type": "execute_result",
          "data": {
            "text/plain": [
              "array([ 4,  6,  8, 10])"
            ]
          },
          "metadata": {
            "tags": []
          },
          "execution_count": 167
        }
      ]
    },
    {
      "cell_type": "code",
      "metadata": {
        "colab": {
          "base_uri": "https://localhost:8080/"
        },
        "id": "E_3enx7S2-ed",
        "outputId": "869415d6-e596-4ca2-e74c-6d4092e757c4"
      },
      "source": [
        "a * b"
      ],
      "execution_count": 168,
      "outputs": [
        {
          "output_type": "execute_result",
          "data": {
            "text/plain": [
              "array([ 0,  5, 12, 21])"
            ]
          },
          "metadata": {
            "tags": []
          },
          "execution_count": 168
        }
      ]
    },
    {
      "cell_type": "code",
      "metadata": {
        "colab": {
          "base_uri": "https://localhost:8080/"
        },
        "id": "Sx9gdf8n2-ed",
        "outputId": "1b18a006-642a-443b-fe02-9311aa22fea6"
      },
      "source": [
        "a * np.sin(b)"
      ],
      "execution_count": 169,
      "outputs": [
        {
          "output_type": "execute_result",
          "data": {
            "text/plain": [
              "array([-0.        , -0.95892427, -0.558831  ,  1.9709598 ])"
            ]
          },
          "metadata": {
            "tags": []
          },
          "execution_count": 169
        }
      ]
    },
    {
      "cell_type": "code",
      "metadata": {
        "colab": {
          "base_uri": "https://localhost:8080/"
        },
        "id": "quI_M1GG2-ee",
        "outputId": "fbffe385-8e2c-4f3e-f2a7-e343ad5ec464"
      },
      "source": [
        "a * np.sqrt(b)"
      ],
      "execution_count": 170,
      "outputs": [
        {
          "output_type": "execute_result",
          "data": {
            "text/plain": [
              "array([0.        , 2.23606798, 4.89897949, 7.93725393])"
            ]
          },
          "metadata": {
            "tags": []
          },
          "execution_count": 170
        }
      ]
    },
    {
      "cell_type": "code",
      "metadata": {
        "colab": {
          "base_uri": "https://localhost:8080/"
        },
        "id": "RmvWtwvI2-ee",
        "outputId": "b63105fe-393d-4e6b-fa38-d79d99ee2abd"
      },
      "source": [
        "A = np.arange(0, 9).reshape(3, 3)\n",
        "A"
      ],
      "execution_count": 171,
      "outputs": [
        {
          "output_type": "execute_result",
          "data": {
            "text/plain": [
              "array([[0, 1, 2],\n",
              "       [3, 4, 5],\n",
              "       [6, 7, 8]])"
            ]
          },
          "metadata": {
            "tags": []
          },
          "execution_count": 171
        }
      ]
    },
    {
      "cell_type": "code",
      "metadata": {
        "colab": {
          "base_uri": "https://localhost:8080/"
        },
        "id": "UsH6y8ys2-ef",
        "outputId": "066f2458-84c1-4f72-a8a9-c934ffc31ab8"
      },
      "source": [
        "B = np.ones((3, 3))\n",
        "B"
      ],
      "execution_count": 172,
      "outputs": [
        {
          "output_type": "execute_result",
          "data": {
            "text/plain": [
              "array([[1., 1., 1.],\n",
              "       [1., 1., 1.],\n",
              "       [1., 1., 1.]])"
            ]
          },
          "metadata": {
            "tags": []
          },
          "execution_count": 172
        }
      ]
    },
    {
      "cell_type": "code",
      "metadata": {
        "colab": {
          "base_uri": "https://localhost:8080/"
        },
        "id": "TO2-2r172-ef",
        "outputId": "56223ee0-de81-4c13-b5c7-e09a24ddefed"
      },
      "source": [
        "A * B"
      ],
      "execution_count": 173,
      "outputs": [
        {
          "output_type": "execute_result",
          "data": {
            "text/plain": [
              "array([[0., 1., 2.],\n",
              "       [3., 4., 5.],\n",
              "       [6., 7., 8.]])"
            ]
          },
          "metadata": {
            "tags": []
          },
          "execution_count": 173
        }
      ]
    },
    {
      "cell_type": "markdown",
      "metadata": {
        "id": "OhSTxaM_2-eg"
      },
      "source": [
        "### The Matrix Product"
      ]
    },
    {
      "cell_type": "code",
      "metadata": {
        "colab": {
          "base_uri": "https://localhost:8080/"
        },
        "id": "IjXE3BU82-eg",
        "outputId": "96958f9f-5f10-4b7e-981c-2d61ea73d8ed"
      },
      "source": [
        "np.dot(A, B)"
      ],
      "execution_count": 174,
      "outputs": [
        {
          "output_type": "execute_result",
          "data": {
            "text/plain": [
              "array([[ 3.,  3.,  3.],\n",
              "       [12., 12., 12.],\n",
              "       [21., 21., 21.]])"
            ]
          },
          "metadata": {
            "tags": []
          },
          "execution_count": 174
        }
      ]
    },
    {
      "cell_type": "code",
      "metadata": {
        "colab": {
          "base_uri": "https://localhost:8080/"
        },
        "id": "vU1jix0C2-eg",
        "outputId": "98a5714c-16cc-4d4e-e3eb-8736e7c8b4e9"
      },
      "source": [
        "A.dot(B)"
      ],
      "execution_count": 175,
      "outputs": [
        {
          "output_type": "execute_result",
          "data": {
            "text/plain": [
              "array([[ 3.,  3.,  3.],\n",
              "       [12., 12., 12.],\n",
              "       [21., 21., 21.]])"
            ]
          },
          "metadata": {
            "tags": []
          },
          "execution_count": 175
        }
      ]
    },
    {
      "cell_type": "code",
      "metadata": {
        "colab": {
          "base_uri": "https://localhost:8080/"
        },
        "id": "US1Kdr2o2-eh",
        "outputId": "9892aa58-402b-4ec1-e7f2-867fc56fa549"
      },
      "source": [
        "np.dot(B, A)"
      ],
      "execution_count": 176,
      "outputs": [
        {
          "output_type": "execute_result",
          "data": {
            "text/plain": [
              "array([[ 9., 12., 15.],\n",
              "       [ 9., 12., 15.],\n",
              "       [ 9., 12., 15.]])"
            ]
          },
          "metadata": {
            "tags": []
          },
          "execution_count": 176
        }
      ]
    },
    {
      "cell_type": "markdown",
      "metadata": {
        "id": "50SJK7t72-ei"
      },
      "source": [
        "### Increment and Decrement Operators"
      ]
    },
    {
      "cell_type": "code",
      "metadata": {
        "colab": {
          "base_uri": "https://localhost:8080/"
        },
        "id": "OMIAtL_t2-ei",
        "outputId": "92b95349-5e6d-4ecb-e66d-8eaa794ec666"
      },
      "source": [
        "a = np.arange(4)\n",
        "a"
      ],
      "execution_count": 177,
      "outputs": [
        {
          "output_type": "execute_result",
          "data": {
            "text/plain": [
              "array([0, 1, 2, 3])"
            ]
          },
          "metadata": {
            "tags": []
          },
          "execution_count": 177
        }
      ]
    },
    {
      "cell_type": "code",
      "metadata": {
        "colab": {
          "base_uri": "https://localhost:8080/"
        },
        "id": "va5-ALde2-ei",
        "outputId": "34ba8609-ed89-4f72-904b-abbfaf5b30f5"
      },
      "source": [
        "a += 1\n",
        "a"
      ],
      "execution_count": 178,
      "outputs": [
        {
          "output_type": "execute_result",
          "data": {
            "text/plain": [
              "array([1, 2, 3, 4])"
            ]
          },
          "metadata": {
            "tags": []
          },
          "execution_count": 178
        }
      ]
    },
    {
      "cell_type": "code",
      "metadata": {
        "colab": {
          "base_uri": "https://localhost:8080/"
        },
        "id": "Jv03iC-N2-ej",
        "outputId": "df20e0d7-ba96-40fe-8c10-7fd39642a168"
      },
      "source": [
        "a -= 1\n",
        "a"
      ],
      "execution_count": 179,
      "outputs": [
        {
          "output_type": "execute_result",
          "data": {
            "text/plain": [
              "array([0, 1, 2, 3])"
            ]
          },
          "metadata": {
            "tags": []
          },
          "execution_count": 179
        }
      ]
    },
    {
      "cell_type": "code",
      "metadata": {
        "colab": {
          "base_uri": "https://localhost:8080/"
        },
        "id": "5THD6RTW2-ej",
        "outputId": "67349c1e-61c2-4045-e9df-00e0ac5ef051"
      },
      "source": [
        "a = np.arange(4)\n",
        "a += 4\n",
        "a"
      ],
      "execution_count": 180,
      "outputs": [
        {
          "output_type": "execute_result",
          "data": {
            "text/plain": [
              "array([4, 5, 6, 7])"
            ]
          },
          "metadata": {
            "tags": []
          },
          "execution_count": 180
        }
      ]
    },
    {
      "cell_type": "code",
      "metadata": {
        "colab": {
          "base_uri": "https://localhost:8080/"
        },
        "id": "dA4Messj2-ej",
        "outputId": "447e6caa-b66b-49ac-c945-c28f22c4adf3"
      },
      "source": [
        "a *= 2\n",
        "a"
      ],
      "execution_count": 181,
      "outputs": [
        {
          "output_type": "execute_result",
          "data": {
            "text/plain": [
              "array([ 8, 10, 12, 14])"
            ]
          },
          "metadata": {
            "tags": []
          },
          "execution_count": 181
        }
      ]
    },
    {
      "cell_type": "markdown",
      "metadata": {
        "id": "hBN9GWvN2-ek"
      },
      "source": [
        "#### Universal Functions (ufunc)"
      ]
    },
    {
      "cell_type": "code",
      "metadata": {
        "colab": {
          "base_uri": "https://localhost:8080/"
        },
        "id": "unv0lat02-ek",
        "outputId": "047bf5b7-a6b2-4662-f5bb-0cbb66c33145"
      },
      "source": [
        "a = np.arange(1, 5)\n",
        "a"
      ],
      "execution_count": 182,
      "outputs": [
        {
          "output_type": "execute_result",
          "data": {
            "text/plain": [
              "array([1, 2, 3, 4])"
            ]
          },
          "metadata": {
            "tags": []
          },
          "execution_count": 182
        }
      ]
    },
    {
      "cell_type": "code",
      "metadata": {
        "colab": {
          "base_uri": "https://localhost:8080/"
        },
        "id": "Mx2a4szc2-el",
        "outputId": "e59ce92a-a7b1-4d9f-d0d3-9b1e9c8f36e4"
      },
      "source": [
        "np.sqrt(a)"
      ],
      "execution_count": 183,
      "outputs": [
        {
          "output_type": "execute_result",
          "data": {
            "text/plain": [
              "array([1.        , 1.41421356, 1.73205081, 2.        ])"
            ]
          },
          "metadata": {
            "tags": []
          },
          "execution_count": 183
        }
      ]
    },
    {
      "cell_type": "code",
      "metadata": {
        "colab": {
          "base_uri": "https://localhost:8080/"
        },
        "id": "P1r-TU272-el",
        "outputId": "fa67c656-663a-4be9-887c-c445c8a63b4f"
      },
      "source": [
        "np.log(a)"
      ],
      "execution_count": 184,
      "outputs": [
        {
          "output_type": "execute_result",
          "data": {
            "text/plain": [
              "array([0.        , 0.69314718, 1.09861229, 1.38629436])"
            ]
          },
          "metadata": {
            "tags": []
          },
          "execution_count": 184
        }
      ]
    },
    {
      "cell_type": "code",
      "metadata": {
        "colab": {
          "base_uri": "https://localhost:8080/"
        },
        "id": "ssOKTPGd2-el",
        "outputId": "d68ecc7c-a517-4d79-b90e-78959d341207"
      },
      "source": [
        "np.sin(a)"
      ],
      "execution_count": 185,
      "outputs": [
        {
          "output_type": "execute_result",
          "data": {
            "text/plain": [
              "array([ 0.84147098,  0.90929743,  0.14112001, -0.7568025 ])"
            ]
          },
          "metadata": {
            "tags": []
          },
          "execution_count": 185
        }
      ]
    },
    {
      "cell_type": "markdown",
      "metadata": {
        "id": "mssvJ7wD2-el"
      },
      "source": [
        "### Aggregate Functions"
      ]
    },
    {
      "cell_type": "code",
      "metadata": {
        "colab": {
          "base_uri": "https://localhost:8080/"
        },
        "id": "SGTINoBI2-em",
        "outputId": "ea081502-8833-4bd3-e215-3a9545b4104f"
      },
      "source": [
        "a = np.array([3.3, 4.5, 1.2, 5.7, 0.3])\n",
        "a"
      ],
      "execution_count": 186,
      "outputs": [
        {
          "output_type": "execute_result",
          "data": {
            "text/plain": [
              "array([3.3, 4.5, 1.2, 5.7, 0.3])"
            ]
          },
          "metadata": {
            "tags": []
          },
          "execution_count": 186
        }
      ]
    },
    {
      "cell_type": "code",
      "metadata": {
        "colab": {
          "base_uri": "https://localhost:8080/"
        },
        "id": "WtSS0A-c2-em",
        "outputId": "3b1ebb9b-3a0f-4dbc-be70-041447d2d00e"
      },
      "source": [
        "a.sum()"
      ],
      "execution_count": 187,
      "outputs": [
        {
          "output_type": "execute_result",
          "data": {
            "text/plain": [
              "15.0"
            ]
          },
          "metadata": {
            "tags": []
          },
          "execution_count": 187
        }
      ]
    },
    {
      "cell_type": "code",
      "metadata": {
        "colab": {
          "base_uri": "https://localhost:8080/"
        },
        "id": "dcTw40go2-em",
        "outputId": "e63f2a45-bda5-4001-da8d-24d71865f1b6"
      },
      "source": [
        "a.min()"
      ],
      "execution_count": 188,
      "outputs": [
        {
          "output_type": "execute_result",
          "data": {
            "text/plain": [
              "0.3"
            ]
          },
          "metadata": {
            "tags": []
          },
          "execution_count": 188
        }
      ]
    },
    {
      "cell_type": "code",
      "metadata": {
        "colab": {
          "base_uri": "https://localhost:8080/"
        },
        "id": "FItdVUSS2-em",
        "outputId": "9e6f0337-45e5-4728-acd4-51e7e7a78f50"
      },
      "source": [
        "a.max()"
      ],
      "execution_count": 189,
      "outputs": [
        {
          "output_type": "execute_result",
          "data": {
            "text/plain": [
              "5.7"
            ]
          },
          "metadata": {
            "tags": []
          },
          "execution_count": 189
        }
      ]
    },
    {
      "cell_type": "code",
      "metadata": {
        "colab": {
          "base_uri": "https://localhost:8080/"
        },
        "id": "NzoqhS6E2-em",
        "outputId": "858c8c23-d508-4a6a-89ec-3452ef0e13c3"
      },
      "source": [
        "a.mean()"
      ],
      "execution_count": 190,
      "outputs": [
        {
          "output_type": "execute_result",
          "data": {
            "text/plain": [
              "3.0"
            ]
          },
          "metadata": {
            "tags": []
          },
          "execution_count": 190
        }
      ]
    },
    {
      "cell_type": "code",
      "metadata": {
        "colab": {
          "base_uri": "https://localhost:8080/"
        },
        "id": "lrSyKx1r2-em",
        "outputId": "6d445b47-1ac7-48dd-ed64-41cd74a3aa8b"
      },
      "source": [
        "a.std()"
      ],
      "execution_count": 191,
      "outputs": [
        {
          "output_type": "execute_result",
          "data": {
            "text/plain": [
              "2.0079840636817816"
            ]
          },
          "metadata": {
            "tags": []
          },
          "execution_count": 191
        }
      ]
    },
    {
      "cell_type": "markdown",
      "metadata": {
        "id": "LiBZavwP2-eo"
      },
      "source": [
        "## Indexing, Slicing and Iterating"
      ]
    },
    {
      "cell_type": "markdown",
      "metadata": {
        "id": "SrMQ7kla2-eo"
      },
      "source": [
        "### Indexing"
      ]
    },
    {
      "cell_type": "code",
      "metadata": {
        "colab": {
          "base_uri": "https://localhost:8080/"
        },
        "id": "Fpp59-Rf2-eo",
        "outputId": "155f790d-ea40-40be-f9f1-eaf8bc236c98"
      },
      "source": [
        "a = np.arange(10, 16)\n",
        "a"
      ],
      "execution_count": 192,
      "outputs": [
        {
          "output_type": "execute_result",
          "data": {
            "text/plain": [
              "array([10, 11, 12, 13, 14, 15])"
            ]
          },
          "metadata": {
            "tags": []
          },
          "execution_count": 192
        }
      ]
    },
    {
      "cell_type": "code",
      "metadata": {
        "colab": {
          "base_uri": "https://localhost:8080/"
        },
        "id": "JmLM2fNw2-ep",
        "outputId": "9679a732-371e-40b5-ceb5-a8c2d0143384"
      },
      "source": [
        "a[4]"
      ],
      "execution_count": 193,
      "outputs": [
        {
          "output_type": "execute_result",
          "data": {
            "text/plain": [
              "14"
            ]
          },
          "metadata": {
            "tags": []
          },
          "execution_count": 193
        }
      ]
    },
    {
      "cell_type": "code",
      "metadata": {
        "colab": {
          "base_uri": "https://localhost:8080/"
        },
        "id": "P-p20SQR2-ep",
        "outputId": "38b9e41b-9c71-4d11-a2e3-f0effa50d148"
      },
      "source": [
        "a[-1]"
      ],
      "execution_count": 194,
      "outputs": [
        {
          "output_type": "execute_result",
          "data": {
            "text/plain": [
              "15"
            ]
          },
          "metadata": {
            "tags": []
          },
          "execution_count": 194
        }
      ]
    },
    {
      "cell_type": "code",
      "metadata": {
        "colab": {
          "base_uri": "https://localhost:8080/"
        },
        "id": "iduT3WmZ2-ep",
        "outputId": "7ad9b6bd-04e0-4758-f2f0-ad008db5ae1e"
      },
      "source": [
        "a[-6]"
      ],
      "execution_count": 195,
      "outputs": [
        {
          "output_type": "execute_result",
          "data": {
            "text/plain": [
              "10"
            ]
          },
          "metadata": {
            "tags": []
          },
          "execution_count": 195
        }
      ]
    },
    {
      "cell_type": "code",
      "metadata": {
        "colab": {
          "base_uri": "https://localhost:8080/"
        },
        "id": "iQaSAzrX2-ep",
        "outputId": "0ff453d4-b674-406d-feea-9de1162a3cbb"
      },
      "source": [
        "a[[1, 3, 4]]"
      ],
      "execution_count": 196,
      "outputs": [
        {
          "output_type": "execute_result",
          "data": {
            "text/plain": [
              "array([11, 13, 14])"
            ]
          },
          "metadata": {
            "tags": []
          },
          "execution_count": 196
        }
      ]
    },
    {
      "cell_type": "code",
      "metadata": {
        "colab": {
          "base_uri": "https://localhost:8080/"
        },
        "id": "yHv9M9xm2-eq",
        "outputId": "a7103ec6-3d96-4865-862f-9600358f15ec"
      },
      "source": [
        "A = np.arange(10, 19).reshape((3, 3))\n",
        "A"
      ],
      "execution_count": 197,
      "outputs": [
        {
          "output_type": "execute_result",
          "data": {
            "text/plain": [
              "array([[10, 11, 12],\n",
              "       [13, 14, 15],\n",
              "       [16, 17, 18]])"
            ]
          },
          "metadata": {
            "tags": []
          },
          "execution_count": 197
        }
      ]
    },
    {
      "cell_type": "code",
      "metadata": {
        "colab": {
          "base_uri": "https://localhost:8080/"
        },
        "id": "vwwcKjXF2-eq",
        "outputId": "692cfcb1-6267-40b7-eabc-47e91361f7a1"
      },
      "source": [
        "A[1, 2]"
      ],
      "execution_count": 198,
      "outputs": [
        {
          "output_type": "execute_result",
          "data": {
            "text/plain": [
              "15"
            ]
          },
          "metadata": {
            "tags": []
          },
          "execution_count": 198
        }
      ]
    },
    {
      "cell_type": "markdown",
      "metadata": {
        "id": "vA-E7iwm2-eq"
      },
      "source": [
        "### Slicing"
      ]
    },
    {
      "cell_type": "code",
      "metadata": {
        "colab": {
          "base_uri": "https://localhost:8080/"
        },
        "id": "ZtTtWL_H2-er",
        "outputId": "a79a7be0-b49b-4ced-8a1a-15609fad8cb7"
      },
      "source": [
        "a = np.arange(10, 16)\n",
        "a"
      ],
      "execution_count": 199,
      "outputs": [
        {
          "output_type": "execute_result",
          "data": {
            "text/plain": [
              "array([10, 11, 12, 13, 14, 15])"
            ]
          },
          "metadata": {
            "tags": []
          },
          "execution_count": 199
        }
      ]
    },
    {
      "cell_type": "code",
      "metadata": {
        "colab": {
          "base_uri": "https://localhost:8080/"
        },
        "id": "6NxHpdru2-er",
        "outputId": "d9afd039-66af-41f1-d46f-286b9326fa5e"
      },
      "source": [
        "a[1:5]"
      ],
      "execution_count": 200,
      "outputs": [
        {
          "output_type": "execute_result",
          "data": {
            "text/plain": [
              "array([11, 12, 13, 14])"
            ]
          },
          "metadata": {
            "tags": []
          },
          "execution_count": 200
        }
      ]
    },
    {
      "cell_type": "code",
      "metadata": {
        "colab": {
          "base_uri": "https://localhost:8080/"
        },
        "id": "U2mzE9xu2-er",
        "outputId": "1b391114-3777-41e5-ca1c-cd3017cedbd7"
      },
      "source": [
        "a[1:5:2]"
      ],
      "execution_count": 201,
      "outputs": [
        {
          "output_type": "execute_result",
          "data": {
            "text/plain": [
              "array([11, 13])"
            ]
          },
          "metadata": {
            "tags": []
          },
          "execution_count": 201
        }
      ]
    },
    {
      "cell_type": "code",
      "metadata": {
        "colab": {
          "base_uri": "https://localhost:8080/"
        },
        "id": "TayR6hgd2-es",
        "outputId": "28714b7c-1c2f-4541-8793-a9cfbd637380"
      },
      "source": [
        "a[::2]"
      ],
      "execution_count": 202,
      "outputs": [
        {
          "output_type": "execute_result",
          "data": {
            "text/plain": [
              "array([10, 12, 14])"
            ]
          },
          "metadata": {
            "tags": []
          },
          "execution_count": 202
        }
      ]
    },
    {
      "cell_type": "code",
      "metadata": {
        "colab": {
          "base_uri": "https://localhost:8080/"
        },
        "id": "XowMFcPA2-es",
        "outputId": "02bc86a2-5af6-45b4-931d-8f349620b3ef"
      },
      "source": [
        "a[:5:2]"
      ],
      "execution_count": 203,
      "outputs": [
        {
          "output_type": "execute_result",
          "data": {
            "text/plain": [
              "array([10, 12, 14])"
            ]
          },
          "metadata": {
            "tags": []
          },
          "execution_count": 203
        }
      ]
    },
    {
      "cell_type": "code",
      "metadata": {
        "colab": {
          "base_uri": "https://localhost:8080/"
        },
        "id": "fptgagWZ2-es",
        "outputId": "d79bb5dd-6dea-4ab9-d7b4-64a3fa0a6b45"
      },
      "source": [
        "a[:5:]"
      ],
      "execution_count": 204,
      "outputs": [
        {
          "output_type": "execute_result",
          "data": {
            "text/plain": [
              "array([10, 11, 12, 13, 14])"
            ]
          },
          "metadata": {
            "tags": []
          },
          "execution_count": 204
        }
      ]
    },
    {
      "cell_type": "code",
      "metadata": {
        "colab": {
          "base_uri": "https://localhost:8080/"
        },
        "id": "R6KSv0uN2-es",
        "outputId": "2bc80d1b-680e-470a-afff-fef7600db013"
      },
      "source": [
        "A = np.arange(10, 19).reshape((3, 3))\n",
        "A"
      ],
      "execution_count": 205,
      "outputs": [
        {
          "output_type": "execute_result",
          "data": {
            "text/plain": [
              "array([[10, 11, 12],\n",
              "       [13, 14, 15],\n",
              "       [16, 17, 18]])"
            ]
          },
          "metadata": {
            "tags": []
          },
          "execution_count": 205
        }
      ]
    },
    {
      "cell_type": "code",
      "metadata": {
        "colab": {
          "base_uri": "https://localhost:8080/"
        },
        "id": "ePaOCXMZ2-et",
        "outputId": "4d90744a-5f1f-419f-c0f5-f3dcfb601aa6"
      },
      "source": [
        "A[0, :]"
      ],
      "execution_count": 206,
      "outputs": [
        {
          "output_type": "execute_result",
          "data": {
            "text/plain": [
              "array([10, 11, 12])"
            ]
          },
          "metadata": {
            "tags": []
          },
          "execution_count": 206
        }
      ]
    },
    {
      "cell_type": "code",
      "metadata": {
        "colab": {
          "base_uri": "https://localhost:8080/"
        },
        "id": "D0S4Oazf2-et",
        "outputId": "99741b61-4a48-477a-e2e1-202d5e058f8c"
      },
      "source": [
        "A[:, 0]"
      ],
      "execution_count": 207,
      "outputs": [
        {
          "output_type": "execute_result",
          "data": {
            "text/plain": [
              "array([10, 13, 16])"
            ]
          },
          "metadata": {
            "tags": []
          },
          "execution_count": 207
        }
      ]
    },
    {
      "cell_type": "code",
      "metadata": {
        "colab": {
          "base_uri": "https://localhost:8080/"
        },
        "id": "odvrlySz2-et",
        "outputId": "69b3a197-91ff-45d1-a9b1-ab2b79b4a696"
      },
      "source": [
        "A[0:2, 0:2]"
      ],
      "execution_count": 208,
      "outputs": [
        {
          "output_type": "execute_result",
          "data": {
            "text/plain": [
              "array([[10, 11],\n",
              "       [13, 14]])"
            ]
          },
          "metadata": {
            "tags": []
          },
          "execution_count": 208
        }
      ]
    },
    {
      "cell_type": "code",
      "metadata": {
        "colab": {
          "base_uri": "https://localhost:8080/"
        },
        "id": "T0lnLDTA2-et",
        "outputId": "90bd058e-8241-4d40-f6b3-73f0b15b2176"
      },
      "source": [
        "A[[0, 2], 0:2]"
      ],
      "execution_count": 209,
      "outputs": [
        {
          "output_type": "execute_result",
          "data": {
            "text/plain": [
              "array([[10, 11],\n",
              "       [16, 17]])"
            ]
          },
          "metadata": {
            "tags": []
          },
          "execution_count": 209
        }
      ]
    },
    {
      "cell_type": "markdown",
      "metadata": {
        "id": "d0cpS1C92-eu"
      },
      "source": [
        "### Iterating an Array "
      ]
    },
    {
      "cell_type": "code",
      "metadata": {
        "colab": {
          "base_uri": "https://localhost:8080/"
        },
        "id": "gT08WCrS2-eu",
        "outputId": "548659a9-6e65-4853-fbeb-40849a9b859c"
      },
      "source": [
        "for i in a:\n",
        "    print(i)"
      ],
      "execution_count": 210,
      "outputs": [
        {
          "output_type": "stream",
          "text": [
            "10\n",
            "11\n",
            "12\n",
            "13\n",
            "14\n",
            "15\n"
          ],
          "name": "stdout"
        }
      ]
    },
    {
      "cell_type": "code",
      "metadata": {
        "colab": {
          "base_uri": "https://localhost:8080/"
        },
        "id": "-4N_0W3s2-eu",
        "outputId": "0f8523af-bbb9-4d92-e745-d96dda83f3f4"
      },
      "source": [
        "for row in A:\n",
        "    print(row)"
      ],
      "execution_count": 211,
      "outputs": [
        {
          "output_type": "stream",
          "text": [
            "[10 11 12]\n",
            "[13 14 15]\n",
            "[16 17 18]\n"
          ],
          "name": "stdout"
        }
      ]
    },
    {
      "cell_type": "code",
      "metadata": {
        "colab": {
          "base_uri": "https://localhost:8080/"
        },
        "id": "6g5p5LOG2-ev",
        "outputId": "ae138491-3b79-47d2-afb3-534ce18faab4"
      },
      "source": [
        "for item in A.flat:\n",
        "    print(item)"
      ],
      "execution_count": 212,
      "outputs": [
        {
          "output_type": "stream",
          "text": [
            "10\n",
            "11\n",
            "12\n",
            "13\n",
            "14\n",
            "15\n",
            "16\n",
            "17\n",
            "18\n"
          ],
          "name": "stdout"
        }
      ]
    },
    {
      "cell_type": "code",
      "metadata": {
        "colab": {
          "base_uri": "https://localhost:8080/"
        },
        "id": "XRwSLK_Y2-ew",
        "outputId": "3d9d2aff-5a52-465a-be84-0784d2ddf74b"
      },
      "source": [
        "np.apply_along_axis(np.mean, axis=0, arr=A)"
      ],
      "execution_count": 213,
      "outputs": [
        {
          "output_type": "execute_result",
          "data": {
            "text/plain": [
              "array([13., 14., 15.])"
            ]
          },
          "metadata": {
            "tags": []
          },
          "execution_count": 213
        }
      ]
    },
    {
      "cell_type": "code",
      "metadata": {
        "colab": {
          "base_uri": "https://localhost:8080/"
        },
        "id": "Ro_9oJb22-ex",
        "outputId": "1c00d98f-2c03-4062-f134-344ae9e13e08"
      },
      "source": [
        "np.apply_along_axis(np.mean, axis=1, arr=A)"
      ],
      "execution_count": 214,
      "outputs": [
        {
          "output_type": "execute_result",
          "data": {
            "text/plain": [
              "array([11., 14., 17.])"
            ]
          },
          "metadata": {
            "tags": []
          },
          "execution_count": 214
        }
      ]
    },
    {
      "cell_type": "code",
      "metadata": {
        "collapsed": true,
        "id": "0Lgixjj02-ey"
      },
      "source": [
        "def foo(x):\n",
        "    return x/2"
      ],
      "execution_count": 215,
      "outputs": []
    },
    {
      "cell_type": "code",
      "metadata": {
        "colab": {
          "base_uri": "https://localhost:8080/"
        },
        "id": "YnuwsUQ02-ez",
        "outputId": "fb2aa513-9f5c-48f2-a6ee-f88b0d64c2ff"
      },
      "source": [
        "np.apply_along_axis(foo, axis=1, arr=A)"
      ],
      "execution_count": 216,
      "outputs": [
        {
          "output_type": "execute_result",
          "data": {
            "text/plain": [
              "array([[5. , 5.5, 6. ],\n",
              "       [6.5, 7. , 7.5],\n",
              "       [8. , 8.5, 9. ]])"
            ]
          },
          "metadata": {
            "tags": []
          },
          "execution_count": 216
        }
      ]
    },
    {
      "cell_type": "code",
      "metadata": {
        "colab": {
          "base_uri": "https://localhost:8080/"
        },
        "id": "OOXkupJm2-ez",
        "outputId": "9b0de3bd-61a6-42ad-942d-29a5ad244bf5"
      },
      "source": [
        "np.apply_along_axis(foo, axis=0, arr=A)"
      ],
      "execution_count": 217,
      "outputs": [
        {
          "output_type": "execute_result",
          "data": {
            "text/plain": [
              "array([[5. , 5.5, 6. ],\n",
              "       [6.5, 7. , 7.5],\n",
              "       [8. , 8.5, 9. ]])"
            ]
          },
          "metadata": {
            "tags": []
          },
          "execution_count": 217
        }
      ]
    },
    {
      "cell_type": "markdown",
      "metadata": {
        "id": "vUP8CukT2-ez"
      },
      "source": [
        "## Conditions and Boolean Arrays"
      ]
    },
    {
      "cell_type": "code",
      "metadata": {
        "colab": {
          "base_uri": "https://localhost:8080/"
        },
        "id": "sl3X1LwO2-ez",
        "outputId": "dd8789f8-8fe1-4c66-f058-069ece3bb64f"
      },
      "source": [
        "A = np.random.random((4, 4))\n",
        "A"
      ],
      "execution_count": 218,
      "outputs": [
        {
          "output_type": "execute_result",
          "data": {
            "text/plain": [
              "array([[0.71990933, 0.01905934, 0.84186208, 0.4610536 ],\n",
              "       [0.39688443, 0.99287346, 0.5874095 , 0.95151921],\n",
              "       [0.98859114, 0.91274823, 0.3271869 , 0.49681533],\n",
              "       [0.28628499, 0.90595515, 0.06631556, 0.12725549]])"
            ]
          },
          "metadata": {
            "tags": []
          },
          "execution_count": 218
        }
      ]
    },
    {
      "cell_type": "code",
      "metadata": {
        "colab": {
          "base_uri": "https://localhost:8080/"
        },
        "id": "xG9m_Eqy2-e0",
        "outputId": "f5e203ec-980d-4053-b5e6-8113b5cf9876"
      },
      "source": [
        "A < 0.5"
      ],
      "execution_count": 219,
      "outputs": [
        {
          "output_type": "execute_result",
          "data": {
            "text/plain": [
              "array([[False,  True, False,  True],\n",
              "       [ True, False, False, False],\n",
              "       [False, False,  True,  True],\n",
              "       [ True, False,  True,  True]])"
            ]
          },
          "metadata": {
            "tags": []
          },
          "execution_count": 219
        }
      ]
    },
    {
      "cell_type": "code",
      "metadata": {
        "colab": {
          "base_uri": "https://localhost:8080/"
        },
        "id": "xBxrLJfj2-e0",
        "outputId": "99ae6b5d-c219-4dc2-9f04-ec3e21e3bd52"
      },
      "source": [
        "A[A < 0.5]"
      ],
      "execution_count": 220,
      "outputs": [
        {
          "output_type": "execute_result",
          "data": {
            "text/plain": [
              "array([0.01905934, 0.4610536 , 0.39688443, 0.3271869 , 0.49681533,\n",
              "       0.28628499, 0.06631556, 0.12725549])"
            ]
          },
          "metadata": {
            "tags": []
          },
          "execution_count": 220
        }
      ]
    },
    {
      "cell_type": "markdown",
      "metadata": {
        "id": "ia_-dvlA2-e0"
      },
      "source": [
        "## Shape Manipulation"
      ]
    },
    {
      "cell_type": "code",
      "metadata": {
        "colab": {
          "base_uri": "https://localhost:8080/"
        },
        "id": "ZoCajRFq2-e0",
        "outputId": "33859f78-7708-4840-fbbd-34280ed1e086"
      },
      "source": [
        "a = np.random.random(12)\n",
        "a"
      ],
      "execution_count": 221,
      "outputs": [
        {
          "output_type": "execute_result",
          "data": {
            "text/plain": [
              "array([0.37331801, 0.89043226, 0.18142307, 0.02044956, 0.67661989,\n",
              "       0.13458466, 0.67146327, 0.48495939, 0.50764277, 0.205061  ,\n",
              "       0.71451715, 0.41160058])"
            ]
          },
          "metadata": {
            "tags": []
          },
          "execution_count": 221
        }
      ]
    },
    {
      "cell_type": "code",
      "metadata": {
        "colab": {
          "base_uri": "https://localhost:8080/"
        },
        "id": "wrprUxbc2-e0",
        "outputId": "36a40eb4-0ecc-40c3-9495-6d05753bd3e8"
      },
      "source": [
        "A = a.reshape(3,4)\n",
        "A"
      ],
      "execution_count": 222,
      "outputs": [
        {
          "output_type": "execute_result",
          "data": {
            "text/plain": [
              "array([[0.37331801, 0.89043226, 0.18142307, 0.02044956],\n",
              "       [0.67661989, 0.13458466, 0.67146327, 0.48495939],\n",
              "       [0.50764277, 0.205061  , 0.71451715, 0.41160058]])"
            ]
          },
          "metadata": {
            "tags": []
          },
          "execution_count": 222
        }
      ]
    },
    {
      "cell_type": "code",
      "metadata": {
        "colab": {
          "base_uri": "https://localhost:8080/"
        },
        "id": "whWjLDyI2-e1",
        "outputId": "88e18753-53ff-40e1-f4c6-8ab8489daefc"
      },
      "source": [
        "a.shape = (3, 4)\n",
        "a"
      ],
      "execution_count": 223,
      "outputs": [
        {
          "output_type": "execute_result",
          "data": {
            "text/plain": [
              "array([[0.37331801, 0.89043226, 0.18142307, 0.02044956],\n",
              "       [0.67661989, 0.13458466, 0.67146327, 0.48495939],\n",
              "       [0.50764277, 0.205061  , 0.71451715, 0.41160058]])"
            ]
          },
          "metadata": {
            "tags": []
          },
          "execution_count": 223
        }
      ]
    },
    {
      "cell_type": "code",
      "metadata": {
        "colab": {
          "base_uri": "https://localhost:8080/"
        },
        "id": "DvjZ-zWy2-e1",
        "outputId": "aa1969ee-b018-4603-ee4b-8bf50c6452b5"
      },
      "source": [
        "a = a.ravel()\n",
        "a"
      ],
      "execution_count": 224,
      "outputs": [
        {
          "output_type": "execute_result",
          "data": {
            "text/plain": [
              "array([0.37331801, 0.89043226, 0.18142307, 0.02044956, 0.67661989,\n",
              "       0.13458466, 0.67146327, 0.48495939, 0.50764277, 0.205061  ,\n",
              "       0.71451715, 0.41160058])"
            ]
          },
          "metadata": {
            "tags": []
          },
          "execution_count": 224
        }
      ]
    },
    {
      "cell_type": "code",
      "metadata": {
        "colab": {
          "base_uri": "https://localhost:8080/"
        },
        "id": "oH4q_nXY2-e1",
        "outputId": "6f9f8466-0210-4778-f0a0-545da21a2557"
      },
      "source": [
        "a.shape = (12)\n",
        "a"
      ],
      "execution_count": 225,
      "outputs": [
        {
          "output_type": "execute_result",
          "data": {
            "text/plain": [
              "array([0.37331801, 0.89043226, 0.18142307, 0.02044956, 0.67661989,\n",
              "       0.13458466, 0.67146327, 0.48495939, 0.50764277, 0.205061  ,\n",
              "       0.71451715, 0.41160058])"
            ]
          },
          "metadata": {
            "tags": []
          },
          "execution_count": 225
        }
      ]
    },
    {
      "cell_type": "code",
      "metadata": {
        "colab": {
          "base_uri": "https://localhost:8080/"
        },
        "id": "zJ7nT6Dn2-e1",
        "outputId": "c8a9d578-052e-4599-db4f-7de6792599ca"
      },
      "source": [
        "A.transpose()"
      ],
      "execution_count": 226,
      "outputs": [
        {
          "output_type": "execute_result",
          "data": {
            "text/plain": [
              "array([[0.37331801, 0.67661989, 0.50764277],\n",
              "       [0.89043226, 0.13458466, 0.205061  ],\n",
              "       [0.18142307, 0.67146327, 0.71451715],\n",
              "       [0.02044956, 0.48495939, 0.41160058]])"
            ]
          },
          "metadata": {
            "tags": []
          },
          "execution_count": 226
        }
      ]
    },
    {
      "cell_type": "markdown",
      "metadata": {
        "id": "nwb-nJaC2-e2"
      },
      "source": [
        "## Array Manipulation"
      ]
    },
    {
      "cell_type": "markdown",
      "metadata": {
        "id": "OnPAD1-m2-e2"
      },
      "source": [
        "### Joining Arrays"
      ]
    },
    {
      "cell_type": "code",
      "metadata": {
        "colab": {
          "base_uri": "https://localhost:8080/"
        },
        "id": "8C5t2kXh2-e2",
        "outputId": "6c5b694e-22e5-4e5b-f043-50a497d7e360"
      },
      "source": [
        "A = np.ones((3, 3))\n",
        "B = np.zeros((3, 3))\n",
        "np.vstack((A, B))"
      ],
      "execution_count": 227,
      "outputs": [
        {
          "output_type": "execute_result",
          "data": {
            "text/plain": [
              "array([[1., 1., 1.],\n",
              "       [1., 1., 1.],\n",
              "       [1., 1., 1.],\n",
              "       [0., 0., 0.],\n",
              "       [0., 0., 0.],\n",
              "       [0., 0., 0.]])"
            ]
          },
          "metadata": {
            "tags": []
          },
          "execution_count": 227
        }
      ]
    },
    {
      "cell_type": "code",
      "metadata": {
        "colab": {
          "base_uri": "https://localhost:8080/"
        },
        "id": "RRohreeM2-e2",
        "outputId": "de1327c3-f4ac-4e43-f697-2370b7fe42ba"
      },
      "source": [
        "np.hstack((A, B))"
      ],
      "execution_count": 228,
      "outputs": [
        {
          "output_type": "execute_result",
          "data": {
            "text/plain": [
              "array([[1., 1., 1., 0., 0., 0.],\n",
              "       [1., 1., 1., 0., 0., 0.],\n",
              "       [1., 1., 1., 0., 0., 0.]])"
            ]
          },
          "metadata": {
            "tags": []
          },
          "execution_count": 228
        }
      ]
    },
    {
      "cell_type": "code",
      "metadata": {
        "colab": {
          "base_uri": "https://localhost:8080/"
        },
        "id": "HXtkONDo2-e3",
        "outputId": "8dcd51f5-d948-4671-eccc-d7ac8ae62360"
      },
      "source": [
        "a = np.array([0, 1, 2])\n",
        "b = np.array([3, 4, 5])\n",
        "c = np.array([6, 7, 8])\n",
        "np.column_stack((a, b, c))"
      ],
      "execution_count": 229,
      "outputs": [
        {
          "output_type": "execute_result",
          "data": {
            "text/plain": [
              "array([[0, 3, 6],\n",
              "       [1, 4, 7],\n",
              "       [2, 5, 8]])"
            ]
          },
          "metadata": {
            "tags": []
          },
          "execution_count": 229
        }
      ]
    },
    {
      "cell_type": "code",
      "metadata": {
        "colab": {
          "base_uri": "https://localhost:8080/"
        },
        "id": "ZSPGJf7n2-e3",
        "outputId": "e7df99af-5fff-45dc-c3d2-d24cc07f8c64"
      },
      "source": [
        "np.row_stack((a, b, c))"
      ],
      "execution_count": 230,
      "outputs": [
        {
          "output_type": "execute_result",
          "data": {
            "text/plain": [
              "array([[0, 1, 2],\n",
              "       [3, 4, 5],\n",
              "       [6, 7, 8]])"
            ]
          },
          "metadata": {
            "tags": []
          },
          "execution_count": 230
        }
      ]
    },
    {
      "cell_type": "markdown",
      "metadata": {
        "id": "jyW8MMZG2-e3"
      },
      "source": [
        "### Splitting Arrays"
      ]
    },
    {
      "cell_type": "code",
      "metadata": {
        "colab": {
          "base_uri": "https://localhost:8080/"
        },
        "id": "IaYnkVcY2-e3",
        "outputId": "35ac5683-f7d4-4999-9052-69682c2f90c3"
      },
      "source": [
        "A = np.arange(16).reshape((4, 4))\n",
        "A"
      ],
      "execution_count": 231,
      "outputs": [
        {
          "output_type": "execute_result",
          "data": {
            "text/plain": [
              "array([[ 0,  1,  2,  3],\n",
              "       [ 4,  5,  6,  7],\n",
              "       [ 8,  9, 10, 11],\n",
              "       [12, 13, 14, 15]])"
            ]
          },
          "metadata": {
            "tags": []
          },
          "execution_count": 231
        }
      ]
    },
    {
      "cell_type": "code",
      "metadata": {
        "colab": {
          "base_uri": "https://localhost:8080/"
        },
        "id": "EQJrCQ-c2-e3",
        "outputId": "ace57c43-06b3-4aa7-8a04-52ca6be7168b"
      },
      "source": [
        "[B, C] = np.hsplit(A, 2)\n",
        "B"
      ],
      "execution_count": 232,
      "outputs": [
        {
          "output_type": "execute_result",
          "data": {
            "text/plain": [
              "array([[ 0,  1],\n",
              "       [ 4,  5],\n",
              "       [ 8,  9],\n",
              "       [12, 13]])"
            ]
          },
          "metadata": {
            "tags": []
          },
          "execution_count": 232
        }
      ]
    },
    {
      "cell_type": "code",
      "metadata": {
        "colab": {
          "base_uri": "https://localhost:8080/"
        },
        "id": "pWl9YmpJ2-e4",
        "outputId": "f051f31b-3a5f-472d-aef5-c6410ccdd545"
      },
      "source": [
        "C"
      ],
      "execution_count": 233,
      "outputs": [
        {
          "output_type": "execute_result",
          "data": {
            "text/plain": [
              "array([[ 2,  3],\n",
              "       [ 6,  7],\n",
              "       [10, 11],\n",
              "       [14, 15]])"
            ]
          },
          "metadata": {
            "tags": []
          },
          "execution_count": 233
        }
      ]
    },
    {
      "cell_type": "code",
      "metadata": {
        "colab": {
          "base_uri": "https://localhost:8080/"
        },
        "id": "nOch2_pw2-e4",
        "outputId": "7a669c59-d6ed-421a-9290-7a960611a4d9"
      },
      "source": [
        "[B, C] = np.vsplit(A, 2)\n",
        "B"
      ],
      "execution_count": 234,
      "outputs": [
        {
          "output_type": "execute_result",
          "data": {
            "text/plain": [
              "array([[0, 1, 2, 3],\n",
              "       [4, 5, 6, 7]])"
            ]
          },
          "metadata": {
            "tags": []
          },
          "execution_count": 234
        }
      ]
    },
    {
      "cell_type": "code",
      "metadata": {
        "colab": {
          "base_uri": "https://localhost:8080/"
        },
        "id": "Ptdv-ZCx2-e5",
        "outputId": "51745078-a66c-4c26-faf8-bf02e97a2c1a"
      },
      "source": [
        "C"
      ],
      "execution_count": 235,
      "outputs": [
        {
          "output_type": "execute_result",
          "data": {
            "text/plain": [
              "array([[ 8,  9, 10, 11],\n",
              "       [12, 13, 14, 15]])"
            ]
          },
          "metadata": {
            "tags": []
          },
          "execution_count": 235
        }
      ]
    },
    {
      "cell_type": "code",
      "metadata": {
        "colab": {
          "base_uri": "https://localhost:8080/"
        },
        "id": "5yJylTD-2-e5",
        "outputId": "227f7162-f83f-490b-fdd0-da57bd152331"
      },
      "source": [
        "[A1, A2, A3] = np.split(A, [1,3], axis=1)\n",
        "A1"
      ],
      "execution_count": 236,
      "outputs": [
        {
          "output_type": "execute_result",
          "data": {
            "text/plain": [
              "array([[ 0],\n",
              "       [ 4],\n",
              "       [ 8],\n",
              "       [12]])"
            ]
          },
          "metadata": {
            "tags": []
          },
          "execution_count": 236
        }
      ]
    },
    {
      "cell_type": "code",
      "metadata": {
        "colab": {
          "base_uri": "https://localhost:8080/"
        },
        "id": "iUdErey92-e5",
        "outputId": "bab4f3ba-0660-4145-c719-ac40f402e689"
      },
      "source": [
        "A2"
      ],
      "execution_count": 237,
      "outputs": [
        {
          "output_type": "execute_result",
          "data": {
            "text/plain": [
              "array([[ 1,  2],\n",
              "       [ 5,  6],\n",
              "       [ 9, 10],\n",
              "       [13, 14]])"
            ]
          },
          "metadata": {
            "tags": []
          },
          "execution_count": 237
        }
      ]
    },
    {
      "cell_type": "code",
      "metadata": {
        "colab": {
          "base_uri": "https://localhost:8080/"
        },
        "id": "4VJ9kRMw2-e6",
        "outputId": "69556f06-e775-4f97-ebc5-5ed7325f504b"
      },
      "source": [
        "A3"
      ],
      "execution_count": 238,
      "outputs": [
        {
          "output_type": "execute_result",
          "data": {
            "text/plain": [
              "array([[ 3],\n",
              "       [ 7],\n",
              "       [11],\n",
              "       [15]])"
            ]
          },
          "metadata": {
            "tags": []
          },
          "execution_count": 238
        }
      ]
    },
    {
      "cell_type": "code",
      "metadata": {
        "colab": {
          "base_uri": "https://localhost:8080/"
        },
        "id": "G1mBIlpu2-e6",
        "outputId": "de7ef396-e333-47b3-ff02-adef300a3243"
      },
      "source": [
        "[A1, A2, A3] = np.split(A, [1, 3], axis=0)\n",
        "A1"
      ],
      "execution_count": 239,
      "outputs": [
        {
          "output_type": "execute_result",
          "data": {
            "text/plain": [
              "array([[0, 1, 2, 3]])"
            ]
          },
          "metadata": {
            "tags": []
          },
          "execution_count": 239
        }
      ]
    },
    {
      "cell_type": "code",
      "metadata": {
        "colab": {
          "base_uri": "https://localhost:8080/"
        },
        "id": "89yivQX82-e6",
        "outputId": "e195de52-2d64-41f4-fed1-eb4a81228309"
      },
      "source": [
        "A2"
      ],
      "execution_count": 240,
      "outputs": [
        {
          "output_type": "execute_result",
          "data": {
            "text/plain": [
              "array([[ 4,  5,  6,  7],\n",
              "       [ 8,  9, 10, 11]])"
            ]
          },
          "metadata": {
            "tags": []
          },
          "execution_count": 240
        }
      ]
    },
    {
      "cell_type": "code",
      "metadata": {
        "colab": {
          "base_uri": "https://localhost:8080/"
        },
        "id": "2nwSeNN02-e7",
        "outputId": "2d185cbf-334c-4329-e10f-f5961b34fe4b"
      },
      "source": [
        "A3"
      ],
      "execution_count": 241,
      "outputs": [
        {
          "output_type": "execute_result",
          "data": {
            "text/plain": [
              "array([[12, 13, 14, 15]])"
            ]
          },
          "metadata": {
            "tags": []
          },
          "execution_count": 241
        }
      ]
    },
    {
      "cell_type": "markdown",
      "metadata": {
        "id": "_-BYZ37m2-e7"
      },
      "source": [
        "## General Concepts"
      ]
    },
    {
      "cell_type": "markdown",
      "metadata": {
        "id": "5F8va8By2-e7"
      },
      "source": [
        "### Copies or Views of Objects"
      ]
    },
    {
      "cell_type": "code",
      "metadata": {
        "colab": {
          "base_uri": "https://localhost:8080/"
        },
        "id": "azWKjTo92-e7",
        "outputId": "df557c7b-ae22-4364-e0f5-3881bdcf52da"
      },
      "source": [
        "a = np.array([1, 2, 3, 4])\n",
        "b = a\n",
        "b"
      ],
      "execution_count": 242,
      "outputs": [
        {
          "output_type": "execute_result",
          "data": {
            "text/plain": [
              "array([1, 2, 3, 4])"
            ]
          },
          "metadata": {
            "tags": []
          },
          "execution_count": 242
        }
      ]
    },
    {
      "cell_type": "code",
      "metadata": {
        "colab": {
          "base_uri": "https://localhost:8080/"
        },
        "id": "coAfBn6Z2-e7",
        "outputId": "0f530df8-8cb5-48ce-bf9d-461be74a2d83"
      },
      "source": [
        "a[2] = 0\n",
        "b"
      ],
      "execution_count": 243,
      "outputs": [
        {
          "output_type": "execute_result",
          "data": {
            "text/plain": [
              "array([1, 2, 0, 4])"
            ]
          },
          "metadata": {
            "tags": []
          },
          "execution_count": 243
        }
      ]
    },
    {
      "cell_type": "code",
      "metadata": {
        "colab": {
          "base_uri": "https://localhost:8080/"
        },
        "id": "hZFywyzi2-e8",
        "outputId": "51979358-c3a9-4ac9-9aed-eee4a696972d"
      },
      "source": [
        "c = a[0:2]\n",
        "c"
      ],
      "execution_count": 244,
      "outputs": [
        {
          "output_type": "execute_result",
          "data": {
            "text/plain": [
              "array([1, 2])"
            ]
          },
          "metadata": {
            "tags": []
          },
          "execution_count": 244
        }
      ]
    },
    {
      "cell_type": "code",
      "metadata": {
        "colab": {
          "base_uri": "https://localhost:8080/"
        },
        "id": "CyhoxJV32-e8",
        "outputId": "ca6cb6bf-9e62-48d4-8beb-742bd2668f11"
      },
      "source": [
        "a[0] = 0\n",
        "c"
      ],
      "execution_count": 245,
      "outputs": [
        {
          "output_type": "execute_result",
          "data": {
            "text/plain": [
              "array([0, 2])"
            ]
          },
          "metadata": {
            "tags": []
          },
          "execution_count": 245
        }
      ]
    },
    {
      "cell_type": "code",
      "metadata": {
        "colab": {
          "base_uri": "https://localhost:8080/"
        },
        "id": "LWHpwK0i2-e8",
        "outputId": "35e88ad2-e4c9-4a9a-a044-469652748541"
      },
      "source": [
        "a = np.array([1, 2, 3, 4])\n",
        "c = a.copy()\n",
        "c"
      ],
      "execution_count": 246,
      "outputs": [
        {
          "output_type": "execute_result",
          "data": {
            "text/plain": [
              "array([1, 2, 3, 4])"
            ]
          },
          "metadata": {
            "tags": []
          },
          "execution_count": 246
        }
      ]
    },
    {
      "cell_type": "code",
      "metadata": {
        "colab": {
          "base_uri": "https://localhost:8080/"
        },
        "id": "0ag5u4lU2-e8",
        "outputId": "3eff34aa-5a46-405b-cb72-b752e3a0510d"
      },
      "source": [
        "a[0] = 0\n",
        "c"
      ],
      "execution_count": 247,
      "outputs": [
        {
          "output_type": "execute_result",
          "data": {
            "text/plain": [
              "array([1, 2, 3, 4])"
            ]
          },
          "metadata": {
            "tags": []
          },
          "execution_count": 247
        }
      ]
    },
    {
      "cell_type": "markdown",
      "metadata": {
        "id": "kG_2etpv2-e9"
      },
      "source": [
        "### Broadcasting"
      ]
    },
    {
      "cell_type": "code",
      "metadata": {
        "colab": {
          "base_uri": "https://localhost:8080/"
        },
        "id": "oJFdqHU82-e9",
        "outputId": "617141b8-296a-41c3-b2ee-fe6b97786c79"
      },
      "source": [
        "A = np.arange(16).reshape(4, 4)\n",
        "b = np.arange(4)\n",
        "A"
      ],
      "execution_count": 248,
      "outputs": [
        {
          "output_type": "execute_result",
          "data": {
            "text/plain": [
              "array([[ 0,  1,  2,  3],\n",
              "       [ 4,  5,  6,  7],\n",
              "       [ 8,  9, 10, 11],\n",
              "       [12, 13, 14, 15]])"
            ]
          },
          "metadata": {
            "tags": []
          },
          "execution_count": 248
        }
      ]
    },
    {
      "cell_type": "code",
      "metadata": {
        "colab": {
          "base_uri": "https://localhost:8080/"
        },
        "id": "UKyY7obx2-e9",
        "outputId": "ac514403-b1ba-4325-b40b-eab27a4dccc5"
      },
      "source": [
        "b"
      ],
      "execution_count": 249,
      "outputs": [
        {
          "output_type": "execute_result",
          "data": {
            "text/plain": [
              "array([0, 1, 2, 3])"
            ]
          },
          "metadata": {
            "tags": []
          },
          "execution_count": 249
        }
      ]
    },
    {
      "cell_type": "code",
      "metadata": {
        "colab": {
          "base_uri": "https://localhost:8080/"
        },
        "id": "3IkHGfda2-e9",
        "outputId": "8a4a0ce4-8584-4992-a296-d8b63aa91ac6"
      },
      "source": [
        "A + b"
      ],
      "execution_count": 250,
      "outputs": [
        {
          "output_type": "execute_result",
          "data": {
            "text/plain": [
              "array([[ 0,  2,  4,  6],\n",
              "       [ 4,  6,  8, 10],\n",
              "       [ 8, 10, 12, 14],\n",
              "       [12, 14, 16, 18]])"
            ]
          },
          "metadata": {
            "tags": []
          },
          "execution_count": 250
        }
      ]
    },
    {
      "cell_type": "code",
      "metadata": {
        "colab": {
          "base_uri": "https://localhost:8080/"
        },
        "id": "_1B9HfnN2-e-",
        "outputId": "5adcc0cb-b983-4ce8-8f17-360d19b33de0"
      },
      "source": [
        "m = np.arange(6).reshape(3, 1, 2)\n",
        "n = np.arange(6).reshape(3, 2, 1)\n",
        "m"
      ],
      "execution_count": 251,
      "outputs": [
        {
          "output_type": "execute_result",
          "data": {
            "text/plain": [
              "array([[[0, 1]],\n",
              "\n",
              "       [[2, 3]],\n",
              "\n",
              "       [[4, 5]]])"
            ]
          },
          "metadata": {
            "tags": []
          },
          "execution_count": 251
        }
      ]
    },
    {
      "cell_type": "code",
      "metadata": {
        "colab": {
          "base_uri": "https://localhost:8080/"
        },
        "id": "hU1rWJE22-e-",
        "outputId": "5384d8ac-5d76-4d48-fd74-d06376541023"
      },
      "source": [
        "n"
      ],
      "execution_count": 252,
      "outputs": [
        {
          "output_type": "execute_result",
          "data": {
            "text/plain": [
              "array([[[0],\n",
              "        [1]],\n",
              "\n",
              "       [[2],\n",
              "        [3]],\n",
              "\n",
              "       [[4],\n",
              "        [5]]])"
            ]
          },
          "metadata": {
            "tags": []
          },
          "execution_count": 252
        }
      ]
    },
    {
      "cell_type": "code",
      "metadata": {
        "colab": {
          "base_uri": "https://localhost:8080/"
        },
        "id": "WAo7p-kf2-e-",
        "outputId": "99a987b3-52fc-47ac-ab62-06b75c17e877"
      },
      "source": [
        "m + n"
      ],
      "execution_count": 253,
      "outputs": [
        {
          "output_type": "execute_result",
          "data": {
            "text/plain": [
              "array([[[ 0,  1],\n",
              "        [ 1,  2]],\n",
              "\n",
              "       [[ 4,  5],\n",
              "        [ 5,  6]],\n",
              "\n",
              "       [[ 8,  9],\n",
              "        [ 9, 10]]])"
            ]
          },
          "metadata": {
            "tags": []
          },
          "execution_count": 253
        }
      ]
    },
    {
      "cell_type": "code",
      "metadata": {
        "colab": {
          "base_uri": "https://localhost:8080/"
        },
        "id": "45fcd3bO2-e-",
        "outputId": "144e8541-1ca6-470a-d367-884230a107ab"
      },
      "source": [
        "structured = np.array([(1, 'First', 0.5, 1+2j),(2, 'Second', 1.3, 2-2j),\n",
        "                      (3, 'Third', 0.8, 1+3j)],dtype=('i2, a6, f4, c8'))\n",
        "structured"
      ],
      "execution_count": 254,
      "outputs": [
        {
          "output_type": "execute_result",
          "data": {
            "text/plain": [
              "array([(1, b'First', 0.5, 1.+2.j), (2, b'Second', 1.3, 2.-2.j),\n",
              "       (3, b'Third', 0.8, 1.+3.j)],\n",
              "      dtype=[('f0', '<i2'), ('f1', 'S6'), ('f2', '<f4'), ('f3', '<c8')])"
            ]
          },
          "metadata": {
            "tags": []
          },
          "execution_count": 254
        }
      ]
    },
    {
      "cell_type": "code",
      "metadata": {
        "colab": {
          "base_uri": "https://localhost:8080/"
        },
        "id": "ZDO_oHXh2-e_",
        "outputId": "e9cef5d1-8413-4abd-8232-80b56c625a99"
      },
      "source": [
        "structured = np.array([(1, 'First', 0.5, 1+2j),(2, 'Second', 1.3, 2-2j),\n",
        "                      (3, 'Third', 0.8, 1+3j)],dtype=('int16, a6, float32, complex64'))\n",
        "structured"
      ],
      "execution_count": 255,
      "outputs": [
        {
          "output_type": "execute_result",
          "data": {
            "text/plain": [
              "array([(1, b'First', 0.5, 1.+2.j), (2, b'Second', 1.3, 2.-2.j),\n",
              "       (3, b'Third', 0.8, 1.+3.j)],\n",
              "      dtype=[('f0', '<i2'), ('f1', 'S6'), ('f2', '<f4'), ('f3', '<c8')])"
            ]
          },
          "metadata": {
            "tags": []
          },
          "execution_count": 255
        }
      ]
    },
    {
      "cell_type": "code",
      "metadata": {
        "colab": {
          "base_uri": "https://localhost:8080/"
        },
        "id": "YL2ixxF02-fA",
        "outputId": "5083231d-573c-4e18-c933-d2adbe76e036"
      },
      "source": [
        "structured['f1']"
      ],
      "execution_count": 256,
      "outputs": [
        {
          "output_type": "execute_result",
          "data": {
            "text/plain": [
              "array([b'First', b'Second', b'Third'], dtype='|S6')"
            ]
          },
          "metadata": {
            "tags": []
          },
          "execution_count": 256
        }
      ]
    },
    {
      "cell_type": "code",
      "metadata": {
        "colab": {
          "base_uri": "https://localhost:8080/"
        },
        "id": "Ec_DTDSk2-fA",
        "outputId": "2ba57435-eff6-47fe-f031-7c055cd8eab3"
      },
      "source": [
        "structured = np.array([(1, 'First', 0.5, 1+2j),(2, 'Second', 1.3, 2-2j),(3, 'Third', 0.8, 1+3j)],\n",
        "                      dtype=[('id', 'i2'),('position','a6'),('value','f4'),('complex','c8')])\n",
        "structured"
      ],
      "execution_count": 257,
      "outputs": [
        {
          "output_type": "execute_result",
          "data": {
            "text/plain": [
              "array([(1, b'First', 0.5, 1.+2.j), (2, b'Second', 1.3, 2.-2.j),\n",
              "       (3, b'Third', 0.8, 1.+3.j)],\n",
              "      dtype=[('id', '<i2'), ('position', 'S6'), ('value', '<f4'), ('complex', '<c8')])"
            ]
          },
          "metadata": {
            "tags": []
          },
          "execution_count": 257
        }
      ]
    },
    {
      "cell_type": "code",
      "metadata": {
        "collapsed": true,
        "id": "uZt1Dv2L2-fA"
      },
      "source": [
        "structured.dtype.names = ('id','order','value','complex')"
      ],
      "execution_count": 258,
      "outputs": []
    },
    {
      "cell_type": "code",
      "metadata": {
        "colab": {
          "base_uri": "https://localhost:8080/"
        },
        "id": "W01Zg-ya2-fA",
        "outputId": "46d2f76e-6b09-4592-beed-49acdc89a494"
      },
      "source": [
        "structured['order']"
      ],
      "execution_count": 259,
      "outputs": [
        {
          "output_type": "execute_result",
          "data": {
            "text/plain": [
              "array([b'First', b'Second', b'Third'], dtype='|S6')"
            ]
          },
          "metadata": {
            "tags": []
          },
          "execution_count": 259
        }
      ]
    },
    {
      "cell_type": "markdown",
      "metadata": {
        "id": "OlfC0dhn2-fA"
      },
      "source": [
        "## Reading and Writing Array Data on Files"
      ]
    },
    {
      "cell_type": "markdown",
      "metadata": {
        "id": "UvQXmph32-fB"
      },
      "source": [
        "### Loading and Saving Data in Binary Files"
      ]
    },
    {
      "cell_type": "code",
      "metadata": {
        "colab": {
          "base_uri": "https://localhost:8080/"
        },
        "id": "7dEdf0h52-fB",
        "outputId": "90a621cc-f531-4153-8533-4b1c164e5ec4"
      },
      "source": [
        "data = np.random.random(12)\n",
        "data = data.reshape(4,3)\n",
        "data"
      ],
      "execution_count": 260,
      "outputs": [
        {
          "output_type": "execute_result",
          "data": {
            "text/plain": [
              "array([[0.47793837, 0.38993589, 0.17821386],\n",
              "       [0.08300138, 0.72422032, 0.82414741],\n",
              "       [0.60601897, 0.92534428, 0.83047359],\n",
              "       [0.52904808, 0.22046379, 0.16170264]])"
            ]
          },
          "metadata": {
            "tags": []
          },
          "execution_count": 260
        }
      ]
    },
    {
      "cell_type": "code",
      "metadata": {
        "collapsed": true,
        "id": "rIx2Ep5c2-fB"
      },
      "source": [
        "np.save('saved_data', data)"
      ],
      "execution_count": 261,
      "outputs": []
    },
    {
      "cell_type": "code",
      "metadata": {
        "colab": {
          "base_uri": "https://localhost:8080/"
        },
        "id": "2biaSBSv2-fB",
        "outputId": "ed6c091c-f4f2-4a7a-f8d1-9dc94c6d7be3"
      },
      "source": [
        "loaded_data = np.load('saved_data.npy')\n",
        "loaded_data"
      ],
      "execution_count": 262,
      "outputs": [
        {
          "output_type": "execute_result",
          "data": {
            "text/plain": [
              "array([[0.47793837, 0.38993589, 0.17821386],\n",
              "       [0.08300138, 0.72422032, 0.82414741],\n",
              "       [0.60601897, 0.92534428, 0.83047359],\n",
              "       [0.52904808, 0.22046379, 0.16170264]])"
            ]
          },
          "metadata": {
            "tags": []
          },
          "execution_count": 262
        }
      ]
    },
    {
      "cell_type": "markdown",
      "metadata": {
        "id": "3QEE6E9W2-fB"
      },
      "source": [
        "### Reading File with Tabular Data "
      ]
    },
    {
      "cell_type": "code",
      "metadata": {
        "colab": {
          "base_uri": "https://localhost:8080/"
        },
        "id": "-MwqqMF12-fB",
        "outputId": "78f97fa9-f12d-4fcd-8a41-18539c10e250"
      },
      "source": [
        "data = np.genfromtxt('ch3_data.csv', delimiter=',', names=True)\n",
        "data"
      ],
      "execution_count": 263,
      "outputs": [
        {
          "output_type": "execute_result",
          "data": {
            "text/plain": [
              "array([(1., 123., 1.4, 23.), (2., 110., 0.5, 18.), (3., 164., 2.1, 19.)],\n",
              "      dtype=[('id', '<f8'), ('value1', '<f8'), ('value2', '<f8'), ('value2_1', '<f8')])"
            ]
          },
          "metadata": {
            "tags": []
          },
          "execution_count": 263
        }
      ]
    },
    {
      "cell_type": "code",
      "metadata": {
        "colab": {
          "base_uri": "https://localhost:8080/"
        },
        "id": "9te6YJqc2-fB",
        "outputId": "6e69578d-5e77-4b26-892b-6edc86cf6b83"
      },
      "source": [
        "data2 = np.genfromtxt('ch3_data2.csv', delimiter=',', names=True)\n",
        "data2"
      ],
      "execution_count": 264,
      "outputs": [
        {
          "output_type": "execute_result",
          "data": {
            "text/plain": [
              "array([(1., 123., 1.4, 23.), (2., 110., nan, 18.), (3.,  nan, 2.1, 19.)],\n",
              "      dtype=[('id', '<f8'), ('value1', '<f8'), ('value2', '<f8'), ('value2_1', '<f8')])"
            ]
          },
          "metadata": {
            "tags": []
          },
          "execution_count": 264
        }
      ]
    },
    {
      "cell_type": "code",
      "metadata": {
        "colab": {
          "base_uri": "https://localhost:8080/"
        },
        "id": "1OIeiPJ12-fB",
        "outputId": "f3a6c676-db4a-404a-ba7e-adcd120552a3"
      },
      "source": [
        "data2['id']"
      ],
      "execution_count": 265,
      "outputs": [
        {
          "output_type": "execute_result",
          "data": {
            "text/plain": [
              "array([1., 2., 3.])"
            ]
          },
          "metadata": {
            "tags": []
          },
          "execution_count": 265
        }
      ]
    },
    {
      "cell_type": "code",
      "metadata": {
        "colab": {
          "base_uri": "https://localhost:8080/"
        },
        "id": "4v-GZz5P2-fC",
        "outputId": "3ea1fcb2-2446-4027-e9f6-ba389833f5ee"
      },
      "source": [
        "data2[0]"
      ],
      "execution_count": 266,
      "outputs": [
        {
          "output_type": "execute_result",
          "data": {
            "text/plain": [
              "(1., 123., 1.4, 23.)"
            ]
          },
          "metadata": {
            "tags": []
          },
          "execution_count": 266
        }
      ]
    },
    {
      "cell_type": "code",
      "metadata": {
        "collapsed": true,
        "id": "OLYU-jBU2-fC"
      },
      "source": [
        ""
      ],
      "execution_count": 266,
      "outputs": []
    }
  ]
}