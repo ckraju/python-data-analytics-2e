{
  "nbformat": 4,
  "nbformat_minor": 0,
  "metadata": {
    "kernelspec": {
      "display_name": "Python 3",
      "language": "python",
      "name": "python3"
    },
    "language_info": {
      "codemirror_mode": {
        "name": "ipython",
        "version": 3
      },
      "file_extension": ".py",
      "mimetype": "text/x-python",
      "name": "python",
      "nbconvert_exporter": "python",
      "pygments_lexer": "ipython3",
      "version": "3.6.3"
    },
    "colab": {
      "name": "Chapter 2 - Introducing To The Python's World.ipynb",
      "provenance": [],
      "include_colab_link": true
    }
  },
  "cells": [
    {
      "cell_type": "markdown",
      "metadata": {
        "id": "view-in-github",
        "colab_type": "text"
      },
      "source": [
        "<a href=\"https://colab.research.google.com/github/ckraju/python-data-analytics-2e/blob/master/Chapter_2_Introducing_To_The_Python's_World.ipynb\" target=\"_parent\"><img src=\"https://colab.research.google.com/assets/colab-badge.svg\" alt=\"Open In Colab\"/></a>"
      ]
    },
    {
      "cell_type": "markdown",
      "metadata": {
        "id": "NT0FWubbx7Iz"
      },
      "source": [
        "# CHAPTER 2 - Introduction to the Python's World"
      ]
    },
    {
      "cell_type": "markdown",
      "metadata": {
        "id": "-oK5RSL7x7I2"
      },
      "source": [
        "## Using Python"
      ]
    },
    {
      "cell_type": "markdown",
      "metadata": {
        "id": "Albt2adax7I3"
      },
      "source": [
        "### Python Shell"
      ]
    },
    {
      "cell_type": "code",
      "metadata": {
        "colab": {
          "base_uri": "https://localhost:8080/"
        },
        "id": "bN4ML9RBx7I4",
        "outputId": "4e7ed893-e5b3-4037-cecd-13325e6ced59"
      },
      "source": [
        "print(\"Hello World!\")"
      ],
      "execution_count": 41,
      "outputs": [
        {
          "output_type": "stream",
          "text": [
            "Hello World!\n"
          ],
          "name": "stdout"
        }
      ]
    },
    {
      "cell_type": "markdown",
      "metadata": {
        "id": "WSCLgMGEx7I7"
      },
      "source": [
        "### Run an Entire Program Code"
      ]
    },
    {
      "cell_type": "code",
      "metadata": {
        "colab": {
          "base_uri": "https://localhost:8080/"
        },
        "id": "-ixqsFi3x7I8",
        "outputId": "2fa8ab8b-155e-4d51-97be-04992b5e6f21"
      },
      "source": [
        "myname = input(\"What is your name? \")\n",
        "print(\"Hi \" + myname + \", I'm glad to say: Hello world!\") "
      ],
      "execution_count": 42,
      "outputs": [
        {
          "output_type": "stream",
          "text": [
            "What is your name? mks si\n",
            "Hi mks si, I'm glad to say: Hello world!\n"
          ],
          "name": "stdout"
        }
      ]
    },
    {
      "cell_type": "markdown",
      "metadata": {
        "id": "verKFViex7I9"
      },
      "source": [
        "## Writing Python Code"
      ]
    },
    {
      "cell_type": "markdown",
      "metadata": {
        "id": "ChiHVHgGx7I9"
      },
      "source": [
        "### Make Calculation"
      ]
    },
    {
      "cell_type": "code",
      "metadata": {
        "colab": {
          "base_uri": "https://localhost:8080/"
        },
        "id": "qb0olWuHx7I-",
        "outputId": "f0014d04-f705-4ba2-e56b-9ec531053b06"
      },
      "source": [
        "1 + 2"
      ],
      "execution_count": 43,
      "outputs": [
        {
          "output_type": "execute_result",
          "data": {
            "text/plain": [
              "3"
            ]
          },
          "metadata": {
            "tags": []
          },
          "execution_count": 43
        }
      ]
    },
    {
      "cell_type": "code",
      "metadata": {
        "colab": {
          "base_uri": "https://localhost:8080/"
        },
        "id": "hrmz_uXOx7I_",
        "outputId": "a2f8865c-8c15-4172-d7ba-ae651eafb56a"
      },
      "source": [
        "(1.045 * 3) / 4"
      ],
      "execution_count": 44,
      "outputs": [
        {
          "output_type": "execute_result",
          "data": {
            "text/plain": [
              "0.78375"
            ]
          },
          "metadata": {
            "tags": []
          },
          "execution_count": 44
        }
      ]
    },
    {
      "cell_type": "code",
      "metadata": {
        "colab": {
          "base_uri": "https://localhost:8080/"
        },
        "id": "qSt05TY5x7JB",
        "outputId": "ea8f749e-92a9-428e-f857-42ca803bb1b5"
      },
      "source": [
        "4 ** 2"
      ],
      "execution_count": 45,
      "outputs": [
        {
          "output_type": "execute_result",
          "data": {
            "text/plain": [
              "16"
            ]
          },
          "metadata": {
            "tags": []
          },
          "execution_count": 45
        }
      ]
    },
    {
      "cell_type": "code",
      "metadata": {
        "colab": {
          "base_uri": "https://localhost:8080/"
        },
        "id": "vJaDA69Dx7JC",
        "outputId": "665cee1a-cabc-48c4-a204-bf90ba541971"
      },
      "source": [
        "((4 + 5j) * (2 + 3j))"
      ],
      "execution_count": 46,
      "outputs": [
        {
          "output_type": "execute_result",
          "data": {
            "text/plain": [
              "(-7+22j)"
            ]
          },
          "metadata": {
            "tags": []
          },
          "execution_count": 46
        }
      ]
    },
    {
      "cell_type": "code",
      "metadata": {
        "colab": {
          "base_uri": "https://localhost:8080/"
        },
        "id": "8mqVls6wx7JD",
        "outputId": "f553024f-f260-42b8-80c7-49e77a153d61"
      },
      "source": [
        "4 < (2 * 3)"
      ],
      "execution_count": 47,
      "outputs": [
        {
          "output_type": "execute_result",
          "data": {
            "text/plain": [
              "True"
            ]
          },
          "metadata": {
            "tags": []
          },
          "execution_count": 47
        }
      ]
    },
    {
      "cell_type": "code",
      "metadata": {
        "colab": {
          "base_uri": "https://localhost:8080/"
        },
        "id": "qRt3vx6xx7JD",
        "outputId": "9df1fdb3-c18c-4409-87e6-2dc76a9a3884"
      },
      "source": [
        "a = 12 * 3.4\n",
        "a"
      ],
      "execution_count": 48,
      "outputs": [
        {
          "output_type": "execute_result",
          "data": {
            "text/plain": [
              "40.8"
            ]
          },
          "metadata": {
            "tags": []
          },
          "execution_count": 48
        }
      ]
    },
    {
      "cell_type": "markdown",
      "metadata": {
        "id": "6WJE4leWx7JE"
      },
      "source": [
        "### Import New Libraries and Functions"
      ]
    },
    {
      "cell_type": "code",
      "metadata": {
        "colab": {
          "base_uri": "https://localhost:8080/"
        },
        "id": "vsybSaxux7JE",
        "outputId": "10ef40ac-e09e-4064-c186-74de9855e882"
      },
      "source": [
        "import math\n",
        "math.sin(a)"
      ],
      "execution_count": 49,
      "outputs": [
        {
          "output_type": "execute_result",
          "data": {
            "text/plain": [
              "0.040693257349864856"
            ]
          },
          "metadata": {
            "tags": []
          },
          "execution_count": 49
        }
      ]
    },
    {
      "cell_type": "code",
      "metadata": {
        "collapsed": true,
        "id": "AC0r4Nqmx7JF"
      },
      "source": [
        "from math import *"
      ],
      "execution_count": 50,
      "outputs": []
    },
    {
      "cell_type": "code",
      "metadata": {
        "colab": {
          "base_uri": "https://localhost:8080/"
        },
        "id": "9MVUrS4px7JG",
        "outputId": "37a67a57-cccf-455d-a0a1-f4e8a1d61bc0"
      },
      "source": [
        "sin(a)"
      ],
      "execution_count": 51,
      "outputs": [
        {
          "output_type": "execute_result",
          "data": {
            "text/plain": [
              "0.040693257349864856"
            ]
          },
          "metadata": {
            "tags": []
          },
          "execution_count": 51
        }
      ]
    },
    {
      "cell_type": "code",
      "metadata": {
        "collapsed": true,
        "id": "joK8cQ2hx7JH"
      },
      "source": [
        "from math import sin"
      ],
      "execution_count": 52,
      "outputs": []
    },
    {
      "cell_type": "markdown",
      "metadata": {
        "id": "vEup2lnKx7JH"
      },
      "source": [
        "### Data Structure"
      ]
    },
    {
      "cell_type": "code",
      "metadata": {
        "colab": {
          "base_uri": "https://localhost:8080/",
          "height": 36
        },
        "id": "twZVqw_ux7JH",
        "outputId": "a373b87d-611e-469f-8857-2770213d5620"
      },
      "source": [
        "dict = {'name':'William', 'age':25, 'city':'London'}\n",
        "dict[\"name\"]"
      ],
      "execution_count": 53,
      "outputs": [
        {
          "output_type": "execute_result",
          "data": {
            "application/vnd.google.colaboratory.intrinsic+json": {
              "type": "string"
            },
            "text/plain": [
              "'William'"
            ]
          },
          "metadata": {
            "tags": []
          },
          "execution_count": 53
        }
      ]
    },
    {
      "cell_type": "code",
      "metadata": {
        "colab": {
          "base_uri": "https://localhost:8080/"
        },
        "id": "pT9rD46Yx7JI",
        "outputId": "cf83fba6-1f0d-4805-b06f-c58d3eb63c2c"
      },
      "source": [
        "for key, value in dict.items():\n",
        "    print(key, value)"
      ],
      "execution_count": 54,
      "outputs": [
        {
          "output_type": "stream",
          "text": [
            "name William\n",
            "age 25\n",
            "city London\n"
          ],
          "name": "stdout"
        }
      ]
    },
    {
      "cell_type": "code",
      "metadata": {
        "colab": {
          "base_uri": "https://localhost:8080/"
        },
        "id": "XbKq_Ws7x7JI",
        "outputId": "7f92c002-cda3-42d4-ab30-314a781ddc7a"
      },
      "source": [
        "testlist = [1, 2, 3, 4]\n",
        "testlist"
      ],
      "execution_count": 55,
      "outputs": [
        {
          "output_type": "execute_result",
          "data": {
            "text/plain": [
              "[1, 2, 3, 4]"
            ]
          },
          "metadata": {
            "tags": []
          },
          "execution_count": 55
        }
      ]
    },
    {
      "cell_type": "code",
      "metadata": {
        "colab": {
          "base_uri": "https://localhost:8080/"
        },
        "id": "syyTBCFax7JJ",
        "outputId": "b82ba4a1-b7f6-4cb7-9173-6f1f8e12fa14"
      },
      "source": [
        "testlist[2]"
      ],
      "execution_count": 56,
      "outputs": [
        {
          "output_type": "execute_result",
          "data": {
            "text/plain": [
              "3"
            ]
          },
          "metadata": {
            "tags": []
          },
          "execution_count": 56
        }
      ]
    },
    {
      "cell_type": "code",
      "metadata": {
        "colab": {
          "base_uri": "https://localhost:8080/"
        },
        "id": "r5KC2eP4x7JJ",
        "outputId": "83cd94dc-fd09-42fb-babd-7b24d0cdd822"
      },
      "source": [
        "testlist[1:3]"
      ],
      "execution_count": 57,
      "outputs": [
        {
          "output_type": "execute_result",
          "data": {
            "text/plain": [
              "[2, 3]"
            ]
          },
          "metadata": {
            "tags": []
          },
          "execution_count": 57
        }
      ]
    },
    {
      "cell_type": "code",
      "metadata": {
        "colab": {
          "base_uri": "https://localhost:8080/"
        },
        "id": "6pUs9r6Gx7JK",
        "outputId": "837f2822-c0c6-4b7a-da18-c95e64032304"
      },
      "source": [
        "testlist[-1]"
      ],
      "execution_count": 58,
      "outputs": [
        {
          "output_type": "execute_result",
          "data": {
            "text/plain": [
              "4"
            ]
          },
          "metadata": {
            "tags": []
          },
          "execution_count": 58
        }
      ]
    },
    {
      "cell_type": "code",
      "metadata": {
        "colab": {
          "base_uri": "https://localhost:8080/"
        },
        "id": "43rUHL_Ex7JL",
        "outputId": "6a4805fa-f14c-4866-95ed-4f823e4669da"
      },
      "source": [
        "items = [1, 2, 3, 4, 5]\n",
        "for item in items:\n",
        "    print(item + 1)"
      ],
      "execution_count": 59,
      "outputs": [
        {
          "output_type": "stream",
          "text": [
            "2\n",
            "3\n",
            "4\n",
            "5\n",
            "6\n"
          ],
          "name": "stdout"
        }
      ]
    },
    {
      "cell_type": "markdown",
      "metadata": {
        "id": "UQj1k1dix7JL"
      },
      "source": [
        "### Functional Programming"
      ]
    },
    {
      "cell_type": "code",
      "metadata": {
        "collapsed": true,
        "id": "qcB3Etg2x7JL"
      },
      "source": [
        "items = [1, 2, 3, 4, 5]\n",
        "def inc(x): return x+1"
      ],
      "execution_count": 60,
      "outputs": []
    },
    {
      "cell_type": "code",
      "metadata": {
        "colab": {
          "base_uri": "https://localhost:8080/"
        },
        "id": "AyY-Kpa-x7JM",
        "outputId": "8935816c-c8f8-40bd-80d2-6c1c1313e138"
      },
      "source": [
        "list(map(inc, items))"
      ],
      "execution_count": 61,
      "outputs": [
        {
          "output_type": "execute_result",
          "data": {
            "text/plain": [
              "[2, 3, 4, 5, 6]"
            ]
          },
          "metadata": {
            "tags": []
          },
          "execution_count": 61
        }
      ]
    },
    {
      "cell_type": "code",
      "metadata": {
        "colab": {
          "base_uri": "https://localhost:8080/"
        },
        "id": "yHSE_yHvx7JM",
        "outputId": "1aa9e19b-aa85-4b32-9d3d-6cf9845d0697"
      },
      "source": [
        "list(map((lambda x: x + 1), items))"
      ],
      "execution_count": 62,
      "outputs": [
        {
          "output_type": "execute_result",
          "data": {
            "text/plain": [
              "[2, 3, 4, 5, 6]"
            ]
          },
          "metadata": {
            "tags": []
          },
          "execution_count": 62
        }
      ]
    },
    {
      "cell_type": "code",
      "metadata": {
        "colab": {
          "base_uri": "https://localhost:8080/"
        },
        "id": "SwT8snbYx7JN",
        "outputId": "9f3f5f56-14b9-498d-cb85-86db630d4024"
      },
      "source": [
        "list(filter((lambda x: x < 4), items))"
      ],
      "execution_count": 63,
      "outputs": [
        {
          "output_type": "execute_result",
          "data": {
            "text/plain": [
              "[1, 2, 3]"
            ]
          },
          "metadata": {
            "tags": []
          },
          "execution_count": 63
        }
      ]
    },
    {
      "cell_type": "code",
      "metadata": {
        "colab": {
          "base_uri": "https://localhost:8080/"
        },
        "id": "5R_IH0YZx7JN",
        "outputId": "4277e087-c049-4855-bc2d-046868200fa5"
      },
      "source": [
        "from functools import reduce\n",
        "reduce((lambda x,y: x/y), items)"
      ],
      "execution_count": 64,
      "outputs": [
        {
          "output_type": "execute_result",
          "data": {
            "text/plain": [
              "0.008333333333333333"
            ]
          },
          "metadata": {
            "tags": []
          },
          "execution_count": 64
        }
      ]
    },
    {
      "cell_type": "code",
      "metadata": {
        "colab": {
          "base_uri": "https://localhost:8080/"
        },
        "id": "v4Z_w1o1x7JO",
        "outputId": "6ed5f57b-8c29-4b12-fc18-a1aae17652ef"
      },
      "source": [
        "S = [x**2 for x in range(5)]\n",
        "S"
      ],
      "execution_count": 65,
      "outputs": [
        {
          "output_type": "execute_result",
          "data": {
            "text/plain": [
              "[0, 1, 4, 9, 16]"
            ]
          },
          "metadata": {
            "tags": []
          },
          "execution_count": 65
        }
      ]
    },
    {
      "cell_type": "markdown",
      "metadata": {
        "id": "UzLIo5Xux7JO"
      },
      "source": [
        "### Indentation"
      ]
    },
    {
      "cell_type": "code",
      "metadata": {
        "colab": {
          "base_uri": "https://localhost:8080/"
        },
        "id": "qRaL4p-Dx7JO",
        "outputId": "5e0e6f20-4d6c-4fd8-a0d8-f5edb5fe84dd"
      },
      "source": [
        "a = 4\n",
        "if a > 3:\n",
        "    if a < 5:\n",
        "        print(\"I'm four\")\n",
        "else:\n",
        "    print(\"I'm a little number\")"
      ],
      "execution_count": 66,
      "outputs": [
        {
          "output_type": "stream",
          "text": [
            "I'm four\n"
          ],
          "name": "stdout"
        }
      ]
    },
    {
      "cell_type": "code",
      "metadata": {
        "colab": {
          "base_uri": "https://localhost:8080/"
        },
        "id": "GfXXgyq3x7JP",
        "outputId": "dae2282d-b738-4de9-99c7-90deec217a5b"
      },
      "source": [
        "if a > 3:\n",
        "    if a < 5:\n",
        "        print(\"I'm four\")\n",
        "    else:\n",
        "        print(\"I'm a big number\")"
      ],
      "execution_count": 67,
      "outputs": [
        {
          "output_type": "stream",
          "text": [
            "I'm four\n"
          ],
          "name": "stdout"
        }
      ]
    },
    {
      "cell_type": "markdown",
      "metadata": {
        "id": "CN3dvrebx7JP"
      },
      "source": [
        "## IPython"
      ]
    },
    {
      "cell_type": "code",
      "metadata": {
        "colab": {
          "base_uri": "https://localhost:8080/"
        },
        "id": "v3ZWdLVkx7JP",
        "outputId": "eedff6a5-9731-4b93-92ef-7c00b9d9c738"
      },
      "source": [
        "print(\"Hello World!\")"
      ],
      "execution_count": 68,
      "outputs": [
        {
          "output_type": "stream",
          "text": [
            "Hello World!\n"
          ],
          "name": "stdout"
        }
      ]
    },
    {
      "cell_type": "code",
      "metadata": {
        "colab": {
          "base_uri": "https://localhost:8080/"
        },
        "id": "ppPkb_6jx7JQ",
        "outputId": "79ca34d4-a307-430c-86d4-b9454ed22242"
      },
      "source": [
        "3/2"
      ],
      "execution_count": 69,
      "outputs": [
        {
          "output_type": "execute_result",
          "data": {
            "text/plain": [
              "1.5"
            ]
          },
          "metadata": {
            "tags": []
          },
          "execution_count": 69
        }
      ]
    },
    {
      "cell_type": "code",
      "metadata": {
        "colab": {
          "base_uri": "https://localhost:8080/"
        },
        "id": "F9Y9pF06x7JQ",
        "outputId": "083b1bb6-db82-4056-dcfe-0fe55520f6b5"
      },
      "source": [
        "5.0/2"
      ],
      "execution_count": 70,
      "outputs": [
        {
          "output_type": "execute_result",
          "data": {
            "text/plain": [
              "2.5"
            ]
          },
          "metadata": {
            "tags": []
          },
          "execution_count": 70
        }
      ]
    },
    {
      "cell_type": "code",
      "metadata": {
        "colab": {
          "base_uri": "https://localhost:8080/"
        },
        "id": "oM9NcT9ox7JQ",
        "outputId": "2ba834fe-611d-4a1b-98f5-1f507f3d254e"
      },
      "source": [
        "In"
      ],
      "execution_count": 71,
      "outputs": [
        {
          "output_type": "execute_result",
          "data": {
            "text/plain": [
              "['',\n",
              " 'print(\"Hello World!\")',\n",
              " 'myname = input(\"What is your name? \")\\nprint(\"Hi \" + myname + \", I\\'m glad to say: Hello world!\") ',\n",
              " '1 + 2',\n",
              " '(1.045 * 3) / 4',\n",
              " '4 ** 2',\n",
              " '((4 + 5j) * (2 + 3j))',\n",
              " '4 < (2 * 3)',\n",
              " 'a = 12 * 3.4\\na',\n",
              " 'import math\\nmath.sin(a)',\n",
              " 'from math import *',\n",
              " 'sin(a)',\n",
              " 'from math import sin',\n",
              " 'dict = {\\'name\\':\\'William\\', \\'age\\':25, \\'city\\':\\'London\\'}\\ndict[\"name\"]',\n",
              " 'for key, value in dict.items():\\n    print(key, value)',\n",
              " 'list = [1, 2, 3, 4]\\nlist',\n",
              " 'list[2]',\n",
              " 'list[1:3]',\n",
              " 'list[-1]',\n",
              " 'items = [1, 2, 3, 4, 5]\\nfor item in items:\\n    print(item + 1)',\n",
              " 'items = [1, 2, 3, 4, 5]\\ndef inc(x): return x+1',\n",
              " 'list(map(inc, items))',\n",
              " 'list[map(inc, items)]',\n",
              " 'list[map[inc, items]]',\n",
              " '#list[map[inc, items]]',\n",
              " 'list(map(inc, items))',\n",
              " 'myrange = list(map(inc, items))',\n",
              " 'list(map((lambda x: x + 1), items))',\n",
              " 'from functools import reduce\\nreduce((lambda x,y: x/y), items)',\n",
              " 'S = [x**2 for x in range(5)]\\nS',\n",
              " 'print(\"Hello World!\")',\n",
              " '3/2',\n",
              " '5.0/2',\n",
              " 'In',\n",
              " 'In[3]',\n",
              " 'items = [1, 2, 3, 4, 5]\\ndef inc(x): return x+1\\n\\ndel list',\n",
              " 'list(map(inc, items))',\n",
              " 'list(map((lambda x: x + 1), items))',\n",
              " 'list(filter((lambda x: x < 4), items))',\n",
              " 'from functools import reduce\\nreduce((lambda x,y: x/y), items)',\n",
              " 'S = [x**2 for x in range(5)]\\nS',\n",
              " 'print(\"Hello World!\")',\n",
              " 'myname = input(\"What is your name? \")\\nprint(\"Hi \" + myname + \", I\\'m glad to say: Hello world!\") ',\n",
              " '1 + 2',\n",
              " '(1.045 * 3) / 4',\n",
              " '4 ** 2',\n",
              " '((4 + 5j) * (2 + 3j))',\n",
              " '4 < (2 * 3)',\n",
              " 'a = 12 * 3.4\\na',\n",
              " 'import math\\nmath.sin(a)',\n",
              " 'from math import *',\n",
              " 'sin(a)',\n",
              " 'from math import sin',\n",
              " 'dict = {\\'name\\':\\'William\\', \\'age\\':25, \\'city\\':\\'London\\'}\\ndict[\"name\"]',\n",
              " 'for key, value in dict.items():\\n    print(key, value)',\n",
              " 'list = [1, 2, 3, 4]\\nlist',\n",
              " 'list[2]',\n",
              " 'list[1:3]',\n",
              " 'list[-1]',\n",
              " 'items = [1, 2, 3, 4, 5]\\nfor item in items:\\n    print(item + 1)',\n",
              " 'items = [1, 2, 3, 4, 5]\\ndef inc(x): return x+1\\n\\ndel list',\n",
              " 'list(map(inc, items))',\n",
              " 'list(map((lambda x: x + 1), items))',\n",
              " 'list(filter((lambda x: x < 4), items))',\n",
              " 'from functools import reduce\\nreduce((lambda x,y: x/y), items)',\n",
              " 'S = [x**2 for x in range(5)]\\nS',\n",
              " 'a = 4\\nif a > 3:\\n    if a < 5:\\n        print(\"I\\'m four\")\\nelse:\\n    print(\"I\\'m a little number\")',\n",
              " 'if a > 3:\\n    if a < 5:\\n        print(\"I\\'m four\")\\n    else:\\n        print(\"I\\'m a big number\")',\n",
              " 'print(\"Hello World!\")',\n",
              " '3/2',\n",
              " '5.0/2',\n",
              " 'In']"
            ]
          },
          "metadata": {
            "tags": []
          },
          "execution_count": 71
        }
      ]
    },
    {
      "cell_type": "code",
      "metadata": {
        "colab": {
          "base_uri": "https://localhost:8080/",
          "height": 36
        },
        "id": "8CYf_jyRx7JR",
        "outputId": "d6449ed5-2470-463f-fc37-8e845b52030f"
      },
      "source": [
        "In[3]"
      ],
      "execution_count": 72,
      "outputs": [
        {
          "output_type": "execute_result",
          "data": {
            "application/vnd.google.colaboratory.intrinsic+json": {
              "type": "string"
            },
            "text/plain": [
              "'1 + 2'"
            ]
          },
          "metadata": {
            "tags": []
          },
          "execution_count": 72
        }
      ]
    },
    {
      "cell_type": "code",
      "metadata": {
        "collapsed": true,
        "id": "Sdb-KFeex7JR"
      },
      "source": [
        ""
      ],
      "execution_count": 72,
      "outputs": []
    }
  ]
}